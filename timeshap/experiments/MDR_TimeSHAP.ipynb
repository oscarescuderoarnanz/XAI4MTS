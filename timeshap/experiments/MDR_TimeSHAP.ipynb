{
 "cells": [
  {
   "cell_type": "markdown",
   "metadata": {},
   "source": [
    "---\n",
    "# 1. Data-Processing\n",
    "---"
   ]
  },
  {
   "cell_type": "code",
   "execution_count": 8,
   "metadata": {},
   "outputs": [],
   "source": [
    "import pandas as pd\n",
    "import numpy as np\n",
    "\n",
    "np.random.seed(42)\n",
    "\n",
    "import warnings\n",
    "warnings.filterwarnings('ignore')\n",
    "\n",
    "from tensorflow.keras.models import load_model\n",
    "\n",
    "\n",
    "import altair as alt\n",
    "\n",
    "# Definir un tema personalizado \"feedzai\"\n",
    "def feedzai_theme():\n",
    "    return {\n",
    "        \"config\": {\n",
    "            \"view\": {\"continuousWidth\": 400, \"continuousHeight\": 300},\n",
    "            \"mark\": {\"color\": \"steelblue\"},\n",
    "        }\n",
    "    }\n",
    "\n",
    "# Registrar el tema\n",
    "alt.themes.register(\"feedzai\", feedzai_theme)\n",
    "alt.themes.enable(\"feedzai\")\n",
    "\n",
    "import sys\n",
    "sys.path.append(\"../src\")\n",
    "\n",
    "import os\n",
    "os.environ['CUDA_VISIBLE_DEVICES'] = '-1'"
   ]
  },
  {
   "cell_type": "code",
   "execution_count": null,
   "metadata": {},
   "outputs": [
    {
     "name": "stdout",
     "output_type": "stream",
     "text": [
      "Found existing installation: timeshap 1.0.4\r\n",
      "Uninstalling timeshap-1.0.4:\r\n",
      "  Would remove:\r\n",
      "    /home/oescudero/.local/lib/python3.8/site-packages/timeshap-1.0.4.dist-info/*\r\n",
      "    /home/oescudero/.local/lib/python3.8/site-packages/timeshap/*\r\n",
      "Proceed (Y/n)? "
     ]
    }
   ],
   "source": [
    "pip uninstall timeshap"
   ]
  },
  {
   "cell_type": "code",
   "execution_count": 9,
   "metadata": {},
   "outputs": [
    {
     "data": {
      "text/plain": [
       "72"
      ]
     },
     "execution_count": 9,
     "metadata": {},
     "output_type": "execute_result"
    }
   ],
   "source": [
    "timeSteps = 14\n",
    "norm = \"robustNorm\"\n",
    "\n",
    "\n",
    "features =  ['timestamp', 'AMG', 'CAR', 'CF1', 'CF3', 'CF4',\n",
    "            'Others', 'GLI', 'LIN', 'LIP', 'MAC', 'NTI', 'OXA', 'PAP', 'PEN', 'POL',\n",
    "            'QUI', 'SUL', 'MV hours', 'Acinet$_{pc}$', 'Enterobac$_{pc}$', 'Enteroc$_{pc}$',\n",
    "            'Pseud$_{pc}$', 'Staph$_{pc}$', 'Others$_{pc}$', 'ICU$_{hours}$',\n",
    "            '# pat$_{atb}$', '# pat$_{MDR}$',\n",
    "            'CAR$_{n}$', 'PAP$_{n}$', \n",
    "            'Others$_{n}$', 'QUI$_{n}$',\n",
    "            'OXA$_{n}$', 'PEN$_{n}$', 'CF3$_{n}$', 'GLI$_{n}$',\n",
    "            'CF4$_{n}$', 'SUL$_{n}$', 'NTI$_{n}$', 'LIN$_{n}$',\n",
    "            'AMG$_{n}$', 'MAC$_{n}$', 'CF1$_{n}$', 'POL$_{n}$',\n",
    "            'LIP$_{n}$', '# pat$_{tot}$' ,'Post change',\n",
    "            'Insulin', 'Art nutrition', 'Sedation', 'Relax', 'Hepatic$_{fail}$',\n",
    "            'Renal$_{fail}$', 'Coagulation$_{fail}$', 'Hemodynamic$_{fail}$',\n",
    "            'Respiratory$_{fail}$', 'Multiorganic$_{fail}$',  '# transfusions',\n",
    "            'Vasoactive drug', 'Dosis nems', 'Tracheo$_{hours}$', 'Ulcer$_{hours}$',\n",
    "            'Hemo$_{hours}$', 'C01 PIVC 1',\n",
    "            'C01 PIVC 2', 'C02 CVC - RJ',\n",
    "            'C02 CVC - RS', 'C02 CVC - LS', 'C02 CVC - RF',\n",
    "            'C02 CVC - LJ', 'C02 CVC - LF', '# catheters']\n",
    "\n",
    "tf =  ['none', 'discreta', 'discreta', 'discreta', 'discreta', 'discreta', \n",
    "        'discreta', 'discreta', 'discreta', 'discreta', 'discreta',\n",
    "        'discreta', 'discreta', 'discreta', 'discreta', 'discreta',\n",
    "        'discreta', 'discreta', 'continua', 'discreta',  \n",
    "        'discreta', 'discreta', 'discreta', 'discreta', 'discreta', 'continua',\n",
    "        'continua', 'continua', 'continua',\n",
    "        'continua', 'continua', 'continua', 'continua',\n",
    "        'continua', 'continua', 'continua', 'continua',\n",
    "        'continua', 'continua', 'continua',\n",
    "        'continua', 'continua', 'continua', 'continua',\n",
    "        'continua', 'continua', 'discreta', 'discreta',\n",
    "        'discreta', 'discreta', 'discreta', 'discreta', 'discreta',\n",
    "        'discreta', 'discreta', 'discreta',\n",
    "        'discreta', 'continua', 'discreta', 'continua',\n",
    "        'continua', 'continua', 'continua',\n",
    "        'continua', 'continua', 'continua', 'continua', 'continua',\n",
    "        'continua', 'continua', 'continua','continua']\n",
    "\n",
    "idxs_cont = [i for i, value in enumerate(tf) if value == 'continua']\n",
    "continuos_features = [features[idx] for idx in idxs_cont]\n",
    "idxs_dis = [i for i, value in enumerate(tf) if value == 'discreta']\n",
    "discrete_features = [features[idx] for idx in idxs_dis]\n",
    "len(features)"
   ]
  },
  {
   "cell_type": "markdown",
   "metadata": {},
   "source": [
    "---\n",
    "# 2. Load RNN model\n",
    "---"
   ]
  },
  {
   "cell_type": "code",
   "execution_count": 10,
   "metadata": {},
   "outputs": [],
   "source": [
    "def weighted_binary_crossentropy(hyperparameters):\n",
    "    w1 = hyperparameters[\"w1\"]\n",
    "    w2 = hyperparameters[\"w2\"]\n",
    "    \"\"\"\n",
    "    Binary form of weighted binary cross entropy.\n",
    "      WBCE(p_t) = -w * (1 - p_t)* log(p_t)\n",
    "      where p = sigmoid(x), p_t = p or 1 - p depending on if the label is 1 or 0, respectively.\n",
    "    Usage:\n",
    "     model.compile(loss=[weighted_binary_crossentropyv2(hyperparameters)], metrics=[\"accuracy\"], optimizer=adam)\n",
    "    \"\"\"\n",
    "    def loss(y_true, y_pred):\n",
    "        \"\"\"\n",
    "        :param y_true: A tensor of the same shape as `y_pred`\n",
    "        :param y_pred:  A tensor resulting from a sigmoid\n",
    "        :return: Output tensor.\n",
    "        \"\"\"\n",
    "        pt_1 = tf.where(tf.equal(y_true, 1), y_pred, tf.ones_like(y_pred))\n",
    "        pt_0 = tf.where(tf.equal(y_true, 0), y_pred, tf.zeros_like(y_pred))\n",
    "\n",
    "        epsilon = K.epsilon()\n",
    "        # clip to prevent NaN's and Inf's\n",
    "        pt_1 = K.clip(pt_1, epsilon, 1. - epsilon)\n",
    "        pt_0 = K.clip(pt_0, epsilon, 1. - epsilon)\n",
    "\n",
    "        return -K.sum(w1 * (1. - pt_1) * K.log(pt_1)) \\\n",
    "               -K.sum(w2 * (pt_0) * K.log(1. - pt_0))\n",
    "\n",
    "    return loss"
   ]
  },
  {
   "cell_type": "code",
   "execution_count": 11,
   "metadata": {},
   "outputs": [
    {
     "name": "stdout",
     "output_type": "stream",
     "text": [
      "Model: \"model\"\n",
      "_________________________________________________________________\n",
      " Layer (type)                Output Shape              Param #   \n",
      "=================================================================\n",
      " input_1 (InputLayer)        [(None, 14, 71)]          0         \n",
      "                                                                 \n",
      " masking (Masking)           (None, 14, 71)            0         \n",
      "                                                                 \n",
      " gru (GRU)                   (None, 3)                 666       \n",
      "                                                                 \n",
      " dense (Dense)               (None, 1)                 3         \n",
      "                                                                 \n",
      "=================================================================\n",
      "Total params: 669 (2.61 KB)\n",
      "Trainable params: 669 (2.61 KB)\n",
      "Non-trainable params: 0 (0.00 Byte)\n",
      "_________________________________________________________________\n",
      "33/33 [==============================] - 0s 2ms/step\n"
     ]
    }
   ],
   "source": [
    "y_pred_by_split = {}\n",
    "for i in range(1,4):\n",
    "    \n",
    "    # Step 1. Load data\n",
    "    X_train = np.load(f\"../../DATA/MDR/s{i}/X_train_tensor_0{norm}.npy\")\n",
    "    X_test = np.load(f\"../../DATA/MDR/s{i}/X_test_tensor_{norm}.npy\")\n",
    "    \n",
    "    y_test = pd.read_csv(f\"../../DATA/MDR/s{i}/y_test_tensor_\"+norm+\".csv\")\n",
    "\n",
    "    model = load_model('./model_split_1.h5', custom_objects={'loss': weighted_binary_crossentropy})\n",
    "\n",
    "    model.summary()\n",
    "    y_pred = model.predict(x=X_test)\n",
    "    y_pred_by_split[str(i)] = y_pred\n",
    "    \n",
    "    break\n"
   ]
  },
  {
   "cell_type": "code",
   "execution_count": 12,
   "metadata": {},
   "outputs": [],
   "source": [
    "# Como timeSHAP no trata con irregular MTS, aplico zero padding\n",
    "X_train[X_train == 666] = 0\n",
    "# Creo una columna con los timestamp\n",
    "new_column = np.tile(np.arange(timeSteps), (X_train.shape[0], 1)) \n",
    "# Expandir para alinearse con la nueva dimensión\n",
    "new_column = new_column[..., np.newaxis]  # Forma (1961, 14, 1)\n",
    "# Paso 3: Concatenar la nueva columna al tensor original\n",
    "X_train = np.concatenate((new_column, X_train), axis=2) \n",
    "\n",
    "X_train_re = X_train.reshape(-1, X_train.shape[2])\n",
    "d_train_normalized = pd.DataFrame(X_train_re, columns=features)\n",
    "d_train_normalized['id'] = 'id'"
   ]
  },
  {
   "cell_type": "markdown",
   "metadata": {},
   "source": [
    "---\n",
    "# 3. TimeSHAP\n",
    "---"
   ]
  },
  {
   "cell_type": "code",
   "execution_count": 13,
   "metadata": {},
   "outputs": [],
   "source": [
    "import TFWrapper\n",
    "from timeshap.wrappers import TorchModelWrapper\n",
    "model_wrapped = TFWrapper.KerasModelWrapper(model)\n",
    "f_hs = lambda x, y=None: model_wrapped.predict_last_hs(x, y)"
   ]
  },
  {
   "cell_type": "markdown",
   "metadata": {},
   "source": [
    "### Baseline event"
   ]
  },
  {
   "cell_type": "code",
   "execution_count": 14,
   "metadata": {},
   "outputs": [],
   "source": [
    "from timeshap.utils import calc_avg_event\n",
    "average_event = calc_avg_event(d_train_normalized, numerical_feats=continuos_features, categorical_feats=discrete_features)"
   ]
  },
  {
   "cell_type": "markdown",
   "metadata": {},
   "source": [
    "### Baseline Sequence"
   ]
  },
  {
   "cell_type": "code",
   "execution_count": 15,
   "metadata": {},
   "outputs": [],
   "source": [
    "from timeshap.utils import calc_avg_sequence\n",
    "average_sequence = calc_avg_sequence(d_train_normalized, numerical_feats=continuos_features, categorical_feats=discrete_features, model_features=features, entity_col=['id'])"
   ]
  },
  {
   "cell_type": "markdown",
   "metadata": {},
   "source": [
    "## 3.1 Local Explanations"
   ]
  },
  {
   "cell_type": "code",
   "execution_count": 16,
   "metadata": {},
   "outputs": [],
   "source": [
    "# AQUI DEBERIA SER DE TEST\n",
    "pos_x_data = d_train_normalized.iloc[0:14]\n",
    "# convert the instance to numpy so TimeSHAP receives it\n",
    "pos_x_data = np.expand_dims(pos_x_data.to_numpy().copy(), axis=0)\n",
    "pos_x_data = pos_x_data[:,:,1:-1]\n",
    "\n",
    "from timeshap.explainer import local_report"
   ]
  },
  {
   "cell_type": "markdown",
   "metadata": {},
   "source": [
    "### Local Report  API"
   ]
  },
  {
   "cell_type": "code",
   "execution_count": 17,
   "metadata": {},
   "outputs": [],
   "source": [
    "def create_dicc(lista):\n",
    "    dicc = {}\n",
    "    for elemento in lista:\n",
    "        dicc[elemento] = elemento\n",
    "    return dicc\n",
    "\n",
    "features_new = features[1:]\n",
    "diccionario = create_dicc(features_new)\n",
    "\n",
    "# local report parameters\n",
    "pruning_dict = {'tol': 0.00} # I do not want to activate prunning \n",
    "event_dict = {'rs': 42, 'nsamples': 3200}\n",
    "feature_dict = {'rs': 42, 'nsamples': 3200, 'feature_names': features_new, 'plot_features': diccionario}\n",
    "cell_dict = {'rs': 42, 'nsamples': 3200, 'top_x_feats': 8, 'top_x_events': 80}"
   ]
  },
  {
   "cell_type": "code",
   "execution_count": 18,
   "metadata": {
    "scrolled": false
   },
   "outputs": [
    {
     "name": "stdout",
     "output_type": "stream",
     "text": [
      "Assuming all features are model features\n"
     ]
    },
    {
     "data": {
      "text/html": [
       "\n",
       "<div id=\"altair-viz-660b7f44263a49839045833366a1339f\"></div>\n",
       "<script type=\"text/javascript\">\n",
       "  var VEGA_DEBUG = (typeof VEGA_DEBUG == \"undefined\") ? {} : VEGA_DEBUG;\n",
       "  (function(spec, embedOpt){\n",
       "    let outputDiv = document.currentScript.previousElementSibling;\n",
       "    if (outputDiv.id !== \"altair-viz-660b7f44263a49839045833366a1339f\") {\n",
       "      outputDiv = document.getElementById(\"altair-viz-660b7f44263a49839045833366a1339f\");\n",
       "    }\n",
       "    const paths = {\n",
       "      \"vega\": \"https://cdn.jsdelivr.net/npm//vega@5?noext\",\n",
       "      \"vega-lib\": \"https://cdn.jsdelivr.net/npm//vega-lib?noext\",\n",
       "      \"vega-lite\": \"https://cdn.jsdelivr.net/npm//vega-lite@4.17.0?noext\",\n",
       "      \"vega-embed\": \"https://cdn.jsdelivr.net/npm//vega-embed@6?noext\",\n",
       "    };\n",
       "\n",
       "    function maybeLoadScript(lib, version) {\n",
       "      var key = `${lib.replace(\"-\", \"\")}_version`;\n",
       "      return (VEGA_DEBUG[key] == version) ?\n",
       "        Promise.resolve(paths[lib]) :\n",
       "        new Promise(function(resolve, reject) {\n",
       "          var s = document.createElement('script');\n",
       "          document.getElementsByTagName(\"head\")[0].appendChild(s);\n",
       "          s.async = true;\n",
       "          s.onload = () => {\n",
       "            VEGA_DEBUG[key] = version;\n",
       "            return resolve(paths[lib]);\n",
       "          };\n",
       "          s.onerror = () => reject(`Error loading script: ${paths[lib]}`);\n",
       "          s.src = paths[lib];\n",
       "        });\n",
       "    }\n",
       "\n",
       "    function showError(err) {\n",
       "      outputDiv.innerHTML = `<div class=\"error\" style=\"color:red;\">${err}</div>`;\n",
       "      throw err;\n",
       "    }\n",
       "\n",
       "    function displayChart(vegaEmbed) {\n",
       "      vegaEmbed(outputDiv, spec, embedOpt)\n",
       "        .catch(err => showError(`Javascript Error: ${err.message}<br>This usually means there's a typo in your chart specification. See the javascript console for the full traceback.`));\n",
       "    }\n",
       "\n",
       "    if(typeof define === \"function\" && define.amd) {\n",
       "      requirejs.config({paths});\n",
       "      require([\"vega-embed\"], displayChart, err => showError(`Error loading script: ${err.message}`));\n",
       "    } else {\n",
       "      maybeLoadScript(\"vega\", \"5\")\n",
       "        .then(() => maybeLoadScript(\"vega-lite\", \"4.17.0\"))\n",
       "        .then(() => maybeLoadScript(\"vega-embed\", \"6\"))\n",
       "        .catch(showError)\n",
       "        .then(() => displayChart(vegaEmbed));\n",
       "    }\n",
       "  })({\"config\": {\"view\": {\"continuousWidth\": 400, \"continuousHeight\": 300}, \"mark\": {\"color\": \"steelblue\"}}, \"hconcat\": [{\"layer\": [{\"mark\": {\"type\": \"area\", \"opacity\": 0.5}, \"encoding\": {\"color\": {\"field\": \"Coalition\", \"legend\": {\"fillColor\": \"white\", \"labelFontSize\": 14, \"labelLimit\": 0, \"orient\": \"top-left\", \"symbolSize\": 50, \"symbolStrokeWidth\": 0, \"title\": null}, \"scale\": {\"domain\": [\"Sum of contribution of events \\u2264 t\"], \"range\": [\"#618FE0\"]}, \"type\": \"nominal\"}, \"x\": {\"axis\": {\"labelFontSize\": 15, \"title\": \"t (event index)\", \"titleFontSize\": 15}, \"field\": \"t (event index)\", \"type\": \"quantitative\"}, \"y\": {\"axis\": {\"grid\": true, \"labelFontSize\": 15, \"titleFontSize\": 15, \"titleX\": -28}, \"field\": \"Shapley Value\", \"scale\": {\"domain\": [-0.05, 1]}, \"type\": \"quantitative\"}}}, {\"mark\": \"line\", \"encoding\": {\"color\": {\"field\": \"Coalition\", \"legend\": {\"fillColor\": \"white\", \"labelFontSize\": 14, \"labelLimit\": 0, \"orient\": \"top-left\", \"symbolSize\": 50, \"symbolStrokeWidth\": 0, \"title\": null}, \"scale\": {\"domain\": [\"Sum of contribution of events \\u2264 t\"], \"range\": [\"#618FE0\"]}, \"type\": \"nominal\"}, \"x\": {\"axis\": {\"labelFontSize\": 15, \"title\": \"t (event index)\", \"titleFontSize\": 15}, \"field\": \"t (event index)\", \"type\": \"quantitative\"}, \"y\": {\"axis\": {\"grid\": true, \"labelFontSize\": 15, \"titleFontSize\": 15, \"titleX\": -28}, \"field\": \"Shapley Value\", \"scale\": {\"domain\": [-0.05, 1]}, \"type\": \"quantitative\"}}}, {\"data\": {\"name\": \"data-a737a7e0ea28edf89e4279c15f3d056f\"}, \"mark\": {\"type\": \"rule\", \"color\": \"#E17560\"}, \"encoding\": {\"x\": {\"field\": \"x\", \"type\": \"quantitative\"}}}, {\"data\": {\"name\": \"data-e4f3cc544e6eb6f30b6d8b725eecc2f0\"}, \"mark\": {\"type\": \"text\", \"angle\": 270, \"color\": \"#E17560\", \"fontSize\": 15, \"fontWeight\": \"bold\", \"text\": \"Pruning\"}, \"encoding\": {\"x\": {\"field\": \"x\", \"type\": \"quantitative\"}}}], \"data\": {\"name\": \"data-978459a746ccc5181e9cfdda8aacfd98\"}, \"height\": 225, \"width\": 350}, {\"layer\": [{\"mark\": \"rect\", \"encoding\": {\"color\": {\"field\": \"rounded\", \"legend\": {\"gradientLength\": 225, \"gradientThickness\": 10, \"labelFontSize\": 15, \"orient\": \"right\"}, \"scale\": {\"domain\": [-0.5, 0.5], \"range\": [\"#5f8fd6\", \"#99c3fb\", \"#f5f5f5\", \"#ffaa92\", \"#d16f5b\"]}, \"title\": null, \"type\": \"quantitative\"}, \"x\": {\"axis\": {\"title\": \"Shapley Value\", \"titleFontSize\": 15}, \"field\": \"column\", \"type\": \"ordinal\"}, \"y\": {\"axis\": {\"domain\": false, \"labelFontSize\": 15, \"title\": \"Event\", \"titleFontSize\": 15, \"titleX\": -75}, \"field\": \"Feature\", \"sort\": [\"Event -1\", \"Event -2\", \"Event -3\", \"Event -4\", \"Event -5\", \"Event -6\", \"Event -7\", \"Event -8\", \"Event -9\", \"Event -10\", \"Event -11\", \"Event -12\", \"Event -13\", \"Event -14\"], \"type\": \"ordinal\"}}}, {\"mark\": {\"type\": \"text\", \"align\": \"right\", \"baseline\": \"middle\", \"color\": \"#798184\", \"dx\": 18, \"fontSize\": 15}, \"encoding\": {\"text\": {\"field\": \"rounded_str\", \"type\": \"nominal\"}, \"x\": {\"axis\": {\"domain\": false, \"labels\": false, \"title\": \"Shapley Value\", \"titleX\": 43}, \"field\": \"column\", \"type\": \"ordinal\"}, \"y\": {\"axis\": {\"domain\": false, \"labelFontSize\": 15, \"title\": \"Event\", \"titleFontSize\": 15, \"titleX\": -75}, \"field\": \"Feature\", \"sort\": [\"Event -1\", \"Event -2\", \"Event -3\", \"Event -4\", \"Event -5\", \"Event -6\", \"Event -7\", \"Event -8\", \"Event -9\", \"Event -10\", \"Event -11\", \"Event -12\", \"Event -13\", \"Event -14\"], \"type\": \"ordinal\"}}}], \"data\": {\"name\": \"data-35c1142866f521bd813a3bfc4b29e35c\"}, \"height\": 250, \"width\": 200}, {\"layer\": [{\"data\": {\"name\": \"data-30653077ecef4324957a9fd7615aa8f9\"}, \"mark\": {\"type\": \"bar\", \"size\": 15, \"thickness\": 1}, \"encoding\": {\"x\": {\"axis\": {\"grid\": true, \"labelFontSize\": 15, \"title\": \"Shapley Value\", \"titleFontSize\": 15}, \"field\": \"Shapley Value\", \"scale\": {\"domain\": [-0.1, 0.4]}, \"type\": \"quantitative\"}, \"y\": {\"axis\": {\"labelFontSize\": 13, \"title\": \"Feature\", \"titleFontSize\": 15, \"titleX\": -120}, \"field\": \"Feature\", \"sort\": {\"field\": \"sort_col\", \"order\": \"descending\"}, \"type\": \"nominal\"}}}, {\"data\": {\"name\": \"data-9c00aa9dc2b1c1a0b4bf9b34ead12925\"}, \"mark\": {\"type\": \"rule\", \"color\": \"#798184\"}, \"encoding\": {\"x\": {\"field\": \"x\", \"type\": \"quantitative\"}}}], \"height\": 850, \"width\": 400}, {\"layer\": [{\"mark\": \"rect\", \"encoding\": {\"color\": {\"field\": \"rounded\", \"legend\": {\"gradientLength\": 800, \"gradientThickness\": 10, \"labelFontSize\": 15, \"orient\": \"right\"}, \"scale\": {\"domain\": [-0.5, 0.5], \"range\": [\"#5f8fd6\", \"#99c3fb\", \"#f5f5f5\", \"#ffaa92\", \"#d16f5b\"]}, \"title\": null, \"type\": \"quantitative\"}, \"x\": {\"axis\": {\"titleFontSize\": 15}, \"field\": \"Event\", \"sort\": [\"Event -9\", \"Event -8\", \"Event -7\", \"Event -6\", \"Event -5\", \"Event -4\", \"Event -3\", \"Event -2\", \"Event -14\", \"Event -13\", \"Event -12\", \"Event -11\", \"Event -10\", \"Event -1\"], \"type\": \"nominal\"}, \"y\": {\"axis\": {\"domain\": false, \"labelFontSize\": 15, \"title\": null}, \"field\": \"Feature\", \"sort\": [\"CAR\", \"PAP\", \"Others$_{pc}$\", \"ICU$_{hours}$\", \"PAP$_{n}$\", \"MAC$_{n}$\", \"# pat$_{tot}$\", \"Dosis nems\"], \"type\": \"nominal\"}}}, {\"mark\": {\"type\": \"text\", \"align\": \"right\", \"baseline\": \"middle\", \"color\": \"#798184\", \"dx\": 18, \"fontSize\": 15}, \"encoding\": {\"text\": {\"field\": \"rounded_str\", \"type\": \"nominal\"}, \"x\": {\"axis\": {\"domain\": false, \"labelAngle\": 30, \"labelFontSize\": 15, \"orient\": \"top\", \"title\": \"Shapley Value\", \"titleX\": 172, \"titleY\": 820}, \"field\": \"Event\", \"sort\": [\"Event -9\", \"Event -8\", \"Event -7\", \"Event -6\", \"Event -5\", \"Event -4\", \"Event -3\", \"Event -2\", \"Event -14\", \"Event -13\", \"Event -12\", \"Event -11\", \"Event -10\", \"Event -1\"], \"type\": \"nominal\"}, \"y\": {\"axis\": {\"domain\": false, \"labelFontSize\": 15, \"title\": null}, \"field\": \"Feature\", \"sort\": [\"CAR\", \"PAP\", \"Others$_{pc}$\", \"ICU$_{hours}$\", \"PAP$_{n}$\", \"MAC$_{n}$\", \"# pat$_{tot}$\", \"Dosis nems\"], \"type\": \"nominal\"}}}], \"data\": {\"name\": \"data-144d58f449dfda6ab74c8880c2064781\"}, \"height\": 800, \"width\": 640}], \"resolve\": {\"scale\": {\"color\": \"independent\"}}, \"$schema\": \"https://vega.github.io/schema/vega-lite/v4.17.0.json\", \"datasets\": {\"data-978459a746ccc5181e9cfdda8aacfd98\": [{\"Coalition\": \"Sum of contribution of events > t\", \"t (event index)\": 0, \"Shapley Value\": -0.07300782203674316}, {\"Coalition\": \"Sum of contribution of events \\u2264 t\", \"t (event index)\": 0, \"Shapley Value\": 0.0}, {\"Coalition\": \"Sum of contribution of events > t\", \"t (event index)\": -1, \"Shapley Value\": -0.05900275707244873}, {\"Coalition\": \"Sum of contribution of events \\u2264 t\", \"t (event index)\": -1, \"Shapley Value\": 0.0}, {\"Coalition\": \"Sum of contribution of events > t\", \"t (event index)\": -2, \"Shapley Value\": -0.03990635275840759}, {\"Coalition\": \"Sum of contribution of events \\u2264 t\", \"t (event index)\": -2, \"Shapley Value\": 0.0}, {\"Coalition\": \"Sum of contribution of events > t\", \"t (event index)\": -3, \"Shapley Value\": -0.02423873543739319}, {\"Coalition\": \"Sum of contribution of events \\u2264 t\", \"t (event index)\": -3, \"Shapley Value\": 0.0}, {\"Coalition\": \"Sum of contribution of events > t\", \"t (event index)\": -4, \"Shapley Value\": -0.013400048017501831}, {\"Coalition\": \"Sum of contribution of events \\u2264 t\", \"t (event index)\": -4, \"Shapley Value\": 0.0}, {\"Coalition\": \"Sum of contribution of events > t\", \"t (event index)\": -5, \"Shapley Value\": -0.007033616304397583}, {\"Coalition\": \"Sum of contribution of events \\u2264 t\", \"t (event index)\": -5, \"Shapley Value\": 0.0}, {\"Coalition\": \"Sum of contribution of events > t\", \"t (event index)\": -6, \"Shapley Value\": -0.004734456539154053}, {\"Coalition\": \"Sum of contribution of events \\u2264 t\", \"t (event index)\": -6, \"Shapley Value\": 0.0}, {\"Coalition\": \"Sum of contribution of events > t\", \"t (event index)\": -7, \"Shapley Value\": -0.006348848342895508}, {\"Coalition\": \"Sum of contribution of events \\u2264 t\", \"t (event index)\": -7, \"Shapley Value\": 0.0}, {\"Coalition\": \"Sum of contribution of events > t\", \"t (event index)\": -8, \"Shapley Value\": -0.011553078889846802}, {\"Coalition\": \"Sum of contribution of events \\u2264 t\", \"t (event index)\": -8, \"Shapley Value\": 0.0}, {\"Coalition\": \"Sum of contribution of events > t\", \"t (event index)\": -9, \"Shapley Value\": -0.019384682178497314}, {\"Coalition\": \"Sum of contribution of events \\u2264 t\", \"t (event index)\": -9, \"Shapley Value\": 0.0}, {\"Coalition\": \"Sum of contribution of events > t\", \"t (event index)\": -10, \"Shapley Value\": -0.02840733528137207}, {\"Coalition\": \"Sum of contribution of events \\u2264 t\", \"t (event index)\": -10, \"Shapley Value\": 0.0}, {\"Coalition\": \"Sum of contribution of events > t\", \"t (event index)\": -11, \"Shapley Value\": -0.037830740213394165}, {\"Coalition\": \"Sum of contribution of events \\u2264 t\", \"t (event index)\": -11, \"Shapley Value\": 0.0}, {\"Coalition\": \"Sum of contribution of events > t\", \"t (event index)\": -12, \"Shapley Value\": -0.04905332624912262}, {\"Coalition\": \"Sum of contribution of events \\u2264 t\", \"t (event index)\": -12, \"Shapley Value\": 0.0}, {\"Coalition\": \"Sum of contribution of events > t\", \"t (event index)\": -13, \"Shapley Value\": -0.05700866878032684}, {\"Coalition\": \"Sum of contribution of events \\u2264 t\", \"t (event index)\": -13, \"Shapley Value\": 0.0}, {\"Coalition\": \"Sum of contribution of events > t\", \"t (event index)\": -14, \"Shapley Value\": 0.0}, {\"Coalition\": \"Sum of contribution of events \\u2264 t\", \"t (event index)\": -14, \"Shapley Value\": -0.07300782203674316}], \"data-a737a7e0ea28edf89e4279c15f3d056f\": [{\"x\": -14}], \"data-e4f3cc544e6eb6f30b6d8b725eecc2f0\": [{\"x\": -16}], \"data-35c1142866f521bd813a3bfc4b29e35c\": [{\"Shapley Value\": -0.017426715328595202, \"Feature\": \"Event -1\", \"row\": 1, \"column\": 1, \"rounded\": -0.017, \"rounded_str\": \"-0.017\"}, {\"Shapley Value\": -0.010537595698254496, \"Feature\": \"Event -2\", \"row\": 2, \"column\": 1, \"rounded\": -0.011, \"rounded_str\": \"-0.011\"}, {\"Shapley Value\": -0.006421585149759133, \"Feature\": \"Event -3\", \"row\": 3, \"column\": 1, \"rounded\": -0.006, \"rounded_str\": \"-0.006\"}, {\"Shapley Value\": -0.004490437494676657, \"Feature\": \"Event -4\", \"row\": 4, \"column\": 1, \"rounded\": -0.004, \"rounded_str\": \"-0.004\"}, {\"Shapley Value\": -0.0032284920201659517, \"Feature\": \"Event -5\", \"row\": 5, \"column\": 1, \"rounded\": -0.003, \"rounded_str\": \"-0.003\"}, {\"Shapley Value\": -0.0010874865824063232, \"Feature\": \"Event -6\", \"row\": 6, \"column\": 1, \"rounded\": -0.001, \"rounded_str\": \"-0.001\"}, {\"Shapley Value\": 0.0, \"Feature\": \"Event -7\", \"row\": 7, \"column\": 1, \"rounded\": 0.0, \"rounded_str\": \"0.000\"}, {\"Shapley Value\": 0.0016341720580968777, \"Feature\": \"Event -8\", \"row\": 8, \"column\": 1, \"rounded\": 0.002, \"rounded_str\": \"0.002\"}, {\"Shapley Value\": 0.0017979938009573294, \"Feature\": \"Event -9\", \"row\": 9, \"column\": 1, \"rounded\": 0.002, \"rounded_str\": \"0.002\"}, {\"Shapley Value\": 0.0025523250026417005, \"Feature\": \"Event -10\", \"row\": 10, \"column\": 1, \"rounded\": 0.003, \"rounded_str\": \"0.003\"}, {\"Shapley Value\": 0.003124341345243156, \"Feature\": \"Event -11\", \"row\": 11, \"column\": 1, \"rounded\": 0.003, \"rounded_str\": \"0.003\"}, {\"Shapley Value\": 0.00366864443243127, \"Feature\": \"Event -12\", \"row\": 12, \"column\": 1, \"rounded\": 0.004, \"rounded_str\": \"0.004\"}, {\"Shapley Value\": -0.019654165791288085, \"Feature\": \"Event -13\", \"row\": 13, \"column\": 1, \"rounded\": -0.02, \"rounded_str\": \"-0.02\"}, {\"Shapley Value\": -0.022938820610967657, \"Feature\": \"Event -14\", \"row\": 14, \"column\": 1, \"rounded\": -0.023, \"rounded_str\": \"-0.023\"}], \"data-30653077ecef4324957a9fd7615aa8f9\": [{\"Random seed\": 42, \"NSamples\": 3200, \"Feature\": \"AMG\", \"Shapley Value\": 0.0, \"sort_col\": 0.0}, {\"Random seed\": 42, \"NSamples\": 3200, \"Feature\": \"CAR\", \"Shapley Value\": -0.027705158021241856, \"sort_col\": 0.027705158021241856}, {\"Random seed\": 42, \"NSamples\": 3200, \"Feature\": \"CF1\", \"Shapley Value\": 0.0, \"sort_col\": 0.0}, {\"Random seed\": 42, \"NSamples\": 3200, \"Feature\": \"CF3\", \"Shapley Value\": 0.0, \"sort_col\": 0.0}, {\"Random seed\": 42, \"NSamples\": 3200, \"Feature\": \"CF4\", \"Shapley Value\": 0.0, \"sort_col\": 0.0}, {\"Random seed\": 42, \"NSamples\": 3200, \"Feature\": \"Others\", \"Shapley Value\": 0.0, \"sort_col\": 0.0}, {\"Random seed\": 42, \"NSamples\": 3200, \"Feature\": \"GLI\", \"Shapley Value\": 0.0, \"sort_col\": 0.0}, {\"Random seed\": 42, \"NSamples\": 3200, \"Feature\": \"LIN\", \"Shapley Value\": 0.0, \"sort_col\": 0.0}, {\"Random seed\": 42, \"NSamples\": 3200, \"Feature\": \"LIP\", \"Shapley Value\": 0.0, \"sort_col\": 0.0}, {\"Random seed\": 42, \"NSamples\": 3200, \"Feature\": \"MAC\", \"Shapley Value\": 0.0, \"sort_col\": 0.0}, {\"Random seed\": 42, \"NSamples\": 3200, \"Feature\": \"NTI\", \"Shapley Value\": 0.0, \"sort_col\": 0.0}, {\"Random seed\": 42, \"NSamples\": 3200, \"Feature\": \"OXA\", \"Shapley Value\": 0.0, \"sort_col\": 0.0}, {\"Random seed\": 42, \"NSamples\": 3200, \"Feature\": \"PAP\", \"Shapley Value\": 0.0014341614312595313, \"sort_col\": 0.0014341614312595313}, {\"Random seed\": 42, \"NSamples\": 3200, \"Feature\": \"PEN\", \"Shapley Value\": 0.0, \"sort_col\": 0.0}, {\"Random seed\": 42, \"NSamples\": 3200, \"Feature\": \"POL\", \"Shapley Value\": 0.0, \"sort_col\": 0.0}, {\"Random seed\": 42, \"NSamples\": 3200, \"Feature\": \"QUI\", \"Shapley Value\": 0.0, \"sort_col\": 0.0}, {\"Random seed\": 42, \"NSamples\": 3200, \"Feature\": \"SUL\", \"Shapley Value\": 0.0, \"sort_col\": 0.0}, {\"Random seed\": 42, \"NSamples\": 3200, \"Feature\": \"MV hours\", \"Shapley Value\": 0.0, \"sort_col\": 0.0}, {\"Random seed\": 42, \"NSamples\": 3200, \"Feature\": \"Acinet$_{pc}$\", \"Shapley Value\": 0.0, \"sort_col\": 0.0}, {\"Random seed\": 42, \"NSamples\": 3200, \"Feature\": \"Enterobac$_{pc}$\", \"Shapley Value\": 0.0, \"sort_col\": 0.0}, {\"Random seed\": 42, \"NSamples\": 3200, \"Feature\": \"Enteroc$_{pc}$\", \"Shapley Value\": 0.0, \"sort_col\": 0.0}, {\"Random seed\": 42, \"NSamples\": 3200, \"Feature\": \"Pseud$_{pc}$\", \"Shapley Value\": 0.0, \"sort_col\": 0.0}, {\"Random seed\": 42, \"NSamples\": 3200, \"Feature\": \"Staph$_{pc}$\", \"Shapley Value\": 0.0, \"sort_col\": 0.0}, {\"Random seed\": 42, \"NSamples\": 3200, \"Feature\": \"Others$_{pc}$\", \"Shapley Value\": -0.000570615747618318, \"sort_col\": 0.000570615747618318}, {\"Random seed\": 42, \"NSamples\": 3200, \"Feature\": \"ICU$_{hours}$\", \"Shapley Value\": -0.04611427646780759, \"sort_col\": 0.04611427646780759}, {\"Random seed\": 42, \"NSamples\": 3200, \"Feature\": \"# pat$_{atb}$\", \"Shapley Value\": 0.0, \"sort_col\": 0.0}, {\"Random seed\": 42, \"NSamples\": 3200, \"Feature\": \"# pat$_{MDR}$\", \"Shapley Value\": 0.0, \"sort_col\": 0.0}, {\"Random seed\": 42, \"NSamples\": 3200, \"Feature\": \"CAR$_{n}$\", \"Shapley Value\": 0.00024674948718809986, \"sort_col\": 0.00024674948718809986}, {\"Random seed\": 42, \"NSamples\": 3200, \"Feature\": \"PAP$_{n}$\", \"Shapley Value\": 0.0006057570259722089, \"sort_col\": 0.0006057570259722089}, {\"Random seed\": 42, \"NSamples\": 3200, \"Feature\": \"Others$_{n}$\", \"Shapley Value\": 0.0, \"sort_col\": 0.0}, {\"Random seed\": 42, \"NSamples\": 3200, \"Feature\": \"QUI$_{n}$\", \"Shapley Value\": 0.0, \"sort_col\": 0.0}, {\"Random seed\": 42, \"NSamples\": 3200, \"Feature\": \"OXA$_{n}$\", \"Shapley Value\": 0.0, \"sort_col\": 0.0}, {\"Random seed\": 42, \"NSamples\": 3200, \"Feature\": \"PEN$_{n}$\", \"Shapley Value\": 0.0, \"sort_col\": 0.0}, {\"Random seed\": 42, \"NSamples\": 3200, \"Feature\": \"CF3$_{n}$\", \"Shapley Value\": 0.0, \"sort_col\": 0.0}, {\"Random seed\": 42, \"NSamples\": 3200, \"Feature\": \"GLI$_{n}$\", \"Shapley Value\": 0.0, \"sort_col\": 0.0}, {\"Random seed\": 42, \"NSamples\": 3200, \"Feature\": \"CF4$_{n}$\", \"Shapley Value\": 0.0, \"sort_col\": 0.0}, {\"Random seed\": 42, \"NSamples\": 3200, \"Feature\": \"SUL$_{n}$\", \"Shapley Value\": 0.0, \"sort_col\": 0.0}, {\"Random seed\": 42, \"NSamples\": 3200, \"Feature\": \"NTI$_{n}$\", \"Shapley Value\": 0.0, \"sort_col\": 0.0}, {\"Random seed\": 42, \"NSamples\": 3200, \"Feature\": \"LIN$_{n}$\", \"Shapley Value\": 0.0, \"sort_col\": 0.0}, {\"Random seed\": 42, \"NSamples\": 3200, \"Feature\": \"AMG$_{n}$\", \"Shapley Value\": 0.0, \"sort_col\": 0.0}, {\"Random seed\": 42, \"NSamples\": 3200, \"Feature\": \"MAC$_{n}$\", \"Shapley Value\": -0.0018643241671342861, \"sort_col\": 0.0018643241671342861}, {\"Random seed\": 42, \"NSamples\": 3200, \"Feature\": \"CF1$_{n}$\", \"Shapley Value\": 0.0, \"sort_col\": 0.0}, {\"Random seed\": 42, \"NSamples\": 3200, \"Feature\": \"POL$_{n}$\", \"Shapley Value\": 0.0, \"sort_col\": 0.0}, {\"Random seed\": 42, \"NSamples\": 3200, \"Feature\": \"LIP$_{n}$\", \"Shapley Value\": 0.0, \"sort_col\": 0.0}, {\"Random seed\": 42, \"NSamples\": 3200, \"Feature\": \"# pat$_{tot}$\", \"Shapley Value\": -0.001346847817065254, \"sort_col\": 0.001346847817065254}, {\"Random seed\": 42, \"NSamples\": 3200, \"Feature\": \"Post change\", \"Shapley Value\": 0.0, \"sort_col\": 0.0}, {\"Random seed\": 42, \"NSamples\": 3200, \"Feature\": \"Insulin\", \"Shapley Value\": 0.0, \"sort_col\": 0.0}, {\"Random seed\": 42, \"NSamples\": 3200, \"Feature\": \"Art nutrition\", \"Shapley Value\": 0.0, \"sort_col\": 0.0}, {\"Random seed\": 42, \"NSamples\": 3200, \"Feature\": \"Sedation\", \"Shapley Value\": 0.0, \"sort_col\": 0.0}, {\"Random seed\": 42, \"NSamples\": 3200, \"Feature\": \"Relax\", \"Shapley Value\": 0.0, \"sort_col\": 0.0}, {\"Random seed\": 42, \"NSamples\": 3200, \"Feature\": \"Hepatic$_{fail}$\", \"Shapley Value\": 0.0, \"sort_col\": 0.0}, {\"Random seed\": 42, \"NSamples\": 3200, \"Feature\": \"Renal$_{fail}$\", \"Shapley Value\": 0.0, \"sort_col\": 0.0}, {\"Random seed\": 42, \"NSamples\": 3200, \"Feature\": \"Coagulation$_{fail}$\", \"Shapley Value\": 0.0, \"sort_col\": 0.0}, {\"Random seed\": 42, \"NSamples\": 3200, \"Feature\": \"Hemodynamic$_{fail}$\", \"Shapley Value\": 0.0, \"sort_col\": 0.0}, {\"Random seed\": 42, \"NSamples\": 3200, \"Feature\": \"Respiratory$_{fail}$\", \"Shapley Value\": 0.0, \"sort_col\": 0.0}, {\"Random seed\": 42, \"NSamples\": 3200, \"Feature\": \"Multiorganic$_{fail}$\", \"Shapley Value\": 0.0, \"sort_col\": 0.0}, {\"Random seed\": 42, \"NSamples\": 3200, \"Feature\": \"# transfusions\", \"Shapley Value\": 0.0, \"sort_col\": 0.0}, {\"Random seed\": 42, \"NSamples\": 3200, \"Feature\": \"Vasoactive drug\", \"Shapley Value\": 0.0, \"sort_col\": 0.0}, {\"Random seed\": 42, \"NSamples\": 3200, \"Feature\": \"Dosis nems\", \"Shapley Value\": 0.0023067322397043177, \"sort_col\": 0.0023067322397043177}, {\"Random seed\": 42, \"NSamples\": 3200, \"Feature\": \"Tracheo$_{hours}$\", \"Shapley Value\": 0.0, \"sort_col\": 0.0}, {\"Random seed\": 42, \"NSamples\": 3200, \"Feature\": \"Ulcer$_{hours}$\", \"Shapley Value\": 0.0, \"sort_col\": 0.0}, {\"Random seed\": 42, \"NSamples\": 3200, \"Feature\": \"Hemo$_{hours}$\", \"Shapley Value\": 0.0, \"sort_col\": 0.0}, {\"Random seed\": 42, \"NSamples\": 3200, \"Feature\": \"C01 PIVC 1\", \"Shapley Value\": 0.0, \"sort_col\": 0.0}, {\"Random seed\": 42, \"NSamples\": 3200, \"Feature\": \"C01 PIVC 2\", \"Shapley Value\": 0.0, \"sort_col\": 0.0}, {\"Random seed\": 42, \"NSamples\": 3200, \"Feature\": \"C02 CVC - RJ\", \"Shapley Value\": 0.0, \"sort_col\": 0.0}, {\"Random seed\": 42, \"NSamples\": 3200, \"Feature\": \"C02 CVC - RS\", \"Shapley Value\": 0.0, \"sort_col\": 0.0}, {\"Random seed\": 42, \"NSamples\": 3200, \"Feature\": \"C02 CVC - LS\", \"Shapley Value\": 0.0, \"sort_col\": 0.0}, {\"Random seed\": 42, \"NSamples\": 3200, \"Feature\": \"C02 CVC - RF\", \"Shapley Value\": 0.0, \"sort_col\": 0.0}, {\"Random seed\": 42, \"NSamples\": 3200, \"Feature\": \"C02 CVC - LJ\", \"Shapley Value\": 0.0, \"sort_col\": 0.0}, {\"Random seed\": 42, \"NSamples\": 3200, \"Feature\": \"C02 CVC - LF\", \"Shapley Value\": 0.0, \"sort_col\": 0.0}, {\"Random seed\": 42, \"NSamples\": 3200, \"Feature\": \"# catheters\", \"Shapley Value\": 0.0, \"sort_col\": 0.0}], \"data-9c00aa9dc2b1c1a0b4bf9b34ead12925\": [{\"x\": 0}], \"data-144d58f449dfda6ab74c8880c2064781\": [{\"Event\": \"Event -10\", \"Feature\": \"CAR\", \"Shapley Value\": 0.003249614525470448, \"rounded\": 0.003, \"rounded_str\": \"0.003\"}, {\"Event\": \"Event -12\", \"Feature\": \"CAR\", \"Shapley Value\": 0.00320213600387678, \"rounded\": 0.003, \"rounded_str\": \"0.003\"}, {\"Event\": \"Event -14\", \"Feature\": \"MAC$_{n}$\", \"Shapley Value\": 0.0029024000142708565, \"rounded\": 0.003, \"rounded_str\": \"0.003\"}, {\"Event\": \"Event -11\", \"Feature\": \"CAR\", \"Shapley Value\": 0.002485039723736536, \"rounded\": 0.002, \"rounded_str\": \"0.002\"}, {\"Event\": \"Event -10\", \"Feature\": \"Others$_{pc}$\", \"Shapley Value\": 0.0016827272124079525, \"rounded\": 0.002, \"rounded_str\": \"0.002\"}, {\"Event\": \"Event -7\", \"Feature\": \"Dosis nems\", \"Shapley Value\": 0.0, \"rounded\": 0.0, \"rounded_str\": \"0.000\"}, {\"Event\": \"Event -5\", \"Feature\": \"MAC$_{n}$\", \"Shapley Value\": 0.0, \"rounded\": 0.0, \"rounded_str\": \"0.000\"}, {\"Event\": \"Event -4\", \"Feature\": \"Dosis nems\", \"Shapley Value\": 0.0, \"rounded\": 0.0, \"rounded_str\": \"0.000\"}, {\"Event\": \"Event -4\", \"Feature\": \"# pat$_{tot}$\", \"Shapley Value\": 0.0, \"rounded\": 0.0, \"rounded_str\": \"0.000\"}, {\"Event\": \"Event -4\", \"Feature\": \"MAC$_{n}$\", \"Shapley Value\": 0.0, \"rounded\": 0.0, \"rounded_str\": \"0.000\"}, {\"Event\": \"Event -4\", \"Feature\": \"PAP$_{n}$\", \"Shapley Value\": 0.0, \"rounded\": 0.0, \"rounded_str\": \"0.000\"}, {\"Event\": \"Event -4\", \"Feature\": \"Others$_{pc}$\", \"Shapley Value\": 0.0, \"rounded\": 0.0, \"rounded_str\": \"0.000\"}, {\"Event\": \"Event -5\", \"Feature\": \"Dosis nems\", \"Shapley Value\": 0.0, \"rounded\": 0.0, \"rounded_str\": \"0.000\"}, {\"Event\": \"Event -5\", \"Feature\": \"# pat$_{tot}$\", \"Shapley Value\": 0.0, \"rounded\": 0.0, \"rounded_str\": \"0.000\"}, {\"Event\": \"Event -5\", \"Feature\": \"PAP$_{n}$\", \"Shapley Value\": 0.0, \"rounded\": 0.0, \"rounded_str\": \"0.000\"}, {\"Event\": \"Event -3\", \"Feature\": \"Others$_{pc}$\", \"Shapley Value\": 0.0, \"rounded\": 0.0, \"rounded_str\": \"0.000\"}, {\"Event\": \"Event -5\", \"Feature\": \"ICU$_{hours}$\", \"Shapley Value\": 0.0, \"rounded\": 0.0, \"rounded_str\": \"0.000\"}, {\"Event\": \"Event -5\", \"Feature\": \"Others$_{pc}$\", \"Shapley Value\": 0.0, \"rounded\": 0.0, \"rounded_str\": \"0.000\"}, {\"Event\": \"Event -5\", \"Feature\": \"PAP\", \"Shapley Value\": 0.0, \"rounded\": 0.0, \"rounded_str\": \"0.000\"}, {\"Event\": \"Event -6\", \"Feature\": \"PAP$_{n}$\", \"Shapley Value\": 0.0, \"rounded\": 0.0, \"rounded_str\": \"0.000\"}, {\"Event\": \"Event -6\", \"Feature\": \"ICU$_{hours}$\", \"Shapley Value\": 0.0, \"rounded\": 0.0, \"rounded_str\": \"0.000\"}, {\"Event\": \"Event -6\", \"Feature\": \"Others$_{pc}$\", \"Shapley Value\": 0.0, \"rounded\": 0.0, \"rounded_str\": \"0.000\"}, {\"Event\": \"Event -6\", \"Feature\": \"PAP\", \"Shapley Value\": 0.0, \"rounded\": 0.0, \"rounded_str\": \"0.000\"}, {\"Event\": \"Event -7\", \"Feature\": \"# pat$_{tot}$\", \"Shapley Value\": 0.0, \"rounded\": 0.0, \"rounded_str\": \"0.000\"}, {\"Event\": \"Event -7\", \"Feature\": \"MAC$_{n}$\", \"Shapley Value\": 0.0, \"rounded\": 0.0, \"rounded_str\": \"0.000\"}, {\"Event\": \"Event -7\", \"Feature\": \"PAP$_{n}$\", \"Shapley Value\": 0.0, \"rounded\": 0.0, \"rounded_str\": \"0.000\"}, {\"Event\": \"Event -7\", \"Feature\": \"PAP\", \"Shapley Value\": 0.0, \"rounded\": 0.0, \"rounded_str\": \"0.000\"}, {\"Event\": \"Event -3\", \"Feature\": \"PAP\", \"Shapley Value\": 0.0, \"rounded\": 0.0, \"rounded_str\": \"0.000\"}, {\"Event\": \"Event -3\", \"Feature\": \"PAP$_{n}$\", \"Shapley Value\": 0.0, \"rounded\": 0.0, \"rounded_str\": \"0.000\"}, {\"Event\": \"Event -3\", \"Feature\": \"ICU$_{hours}$\", \"Shapley Value\": 0.0, \"rounded\": 0.0, \"rounded_str\": \"0.000\"}, {\"Event\": \"Event -1\", \"Feature\": \"MAC$_{n}$\", \"Shapley Value\": 0.0, \"rounded\": 0.0, \"rounded_str\": \"0.000\"}, {\"Event\": \"Event -2\", \"Feature\": \"Other Features\", \"Shapley Value\": 0.0, \"rounded\": 0.0, \"rounded_str\": \"0.000\"}, {\"Event\": \"Event -3\", \"Feature\": \"Other Features\", \"Shapley Value\": 0.0, \"rounded\": 0.0, \"rounded_str\": \"0.000\"}, {\"Event\": \"Event -4\", \"Feature\": \"Other Features\", \"Shapley Value\": 0.0, \"rounded\": 0.0, \"rounded_str\": \"0.000\"}, {\"Event\": \"Event -5\", \"Feature\": \"Other Features\", \"Shapley Value\": 0.0, \"rounded\": 0.0, \"rounded_str\": \"0.000\"}, {\"Event\": \"Event -6\", \"Feature\": \"Other Features\", \"Shapley Value\": 0.0, \"rounded\": 0.0, \"rounded_str\": \"0.000\"}, {\"Event\": \"Event -7\", \"Feature\": \"Other Features\", \"Shapley Value\": 0.0, \"rounded\": 0.0, \"rounded_str\": \"0.000\"}, {\"Event\": \"Event -9\", \"Feature\": \"Other Features\", \"Shapley Value\": 0.0, \"rounded\": 0.0, \"rounded_str\": \"0.000\"}, {\"Event\": \"Event -12\", \"Feature\": \"Other Features\", \"Shapley Value\": 0.0, \"rounded\": 0.0, \"rounded_str\": \"0.000\"}, {\"Event\": \"Event -13\", \"Feature\": \"Other Features\", \"Shapley Value\": 0.0, \"rounded\": 0.0, \"rounded_str\": \"0.000\"}, {\"Event\": \"Event -1\", \"Feature\": \"Dosis nems\", \"Shapley Value\": 0.0, \"rounded\": 0.0, \"rounded_str\": \"0.000\"}, {\"Event\": \"Event -1\", \"Feature\": \"PAP$_{n}$\", \"Shapley Value\": 0.0, \"rounded\": 0.0, \"rounded_str\": \"0.000\"}, {\"Event\": \"Event -8\", \"Feature\": \"Dosis nems\", \"Shapley Value\": 0.0, \"rounded\": 0.0, \"rounded_str\": \"0.000\"}, {\"Event\": \"Event -1\", \"Feature\": \"ICU$_{hours}$\", \"Shapley Value\": 0.0, \"rounded\": 0.0, \"rounded_str\": \"0.000\"}, {\"Event\": \"Event -1\", \"Feature\": \"Others$_{pc}$\", \"Shapley Value\": 0.0, \"rounded\": 0.0, \"rounded_str\": \"0.000\"}, {\"Event\": \"Event -1\", \"Feature\": \"PAP\", \"Shapley Value\": 0.0, \"rounded\": 0.0, \"rounded_str\": \"0.000\"}, {\"Event\": \"Event -2\", \"Feature\": \"Dosis nems\", \"Shapley Value\": 0.0, \"rounded\": 0.0, \"rounded_str\": \"0.000\"}, {\"Event\": \"Event -2\", \"Feature\": \"MAC$_{n}$\", \"Shapley Value\": 0.0, \"rounded\": 0.0, \"rounded_str\": \"0.000\"}, {\"Event\": \"Event -2\", \"Feature\": \"PAP$_{n}$\", \"Shapley Value\": 0.0, \"rounded\": 0.0, \"rounded_str\": \"0.000\"}, {\"Event\": \"Event -2\", \"Feature\": \"ICU$_{hours}$\", \"Shapley Value\": 0.0, \"rounded\": 0.0, \"rounded_str\": \"0.000\"}, {\"Event\": \"Event -2\", \"Feature\": \"Others$_{pc}$\", \"Shapley Value\": 0.0, \"rounded\": 0.0, \"rounded_str\": \"0.000\"}, {\"Event\": \"Event -3\", \"Feature\": \"# pat$_{tot}$\", \"Shapley Value\": 0.0, \"rounded\": 0.0, \"rounded_str\": \"0.000\"}, {\"Event\": \"Event -3\", \"Feature\": \"MAC$_{n}$\", \"Shapley Value\": 0.0, \"rounded\": 0.0, \"rounded_str\": \"0.000\"}, {\"Event\": \"Event -7\", \"Feature\": \"CAR\", \"Shapley Value\": 0.0, \"rounded\": 0.0, \"rounded_str\": \"0.000\"}, {\"Event\": \"Event -1\", \"Feature\": \"Other Features\", \"Shapley Value\": 0.0, \"rounded\": 0.0, \"rounded_str\": \"0.000\"}, {\"Event\": \"Event -8\", \"Feature\": \"# pat$_{tot}$\", \"Shapley Value\": 0.0, \"rounded\": 0.0, \"rounded_str\": \"0.000\"}, {\"Event\": \"Event -12\", \"Feature\": \"Dosis nems\", \"Shapley Value\": 0.0, \"rounded\": 0.0, \"rounded_str\": \"0.000\"}, {\"Event\": \"Event -10\", \"Feature\": \"PAP$_{n}$\", \"Shapley Value\": 0.0, \"rounded\": 0.0, \"rounded_str\": \"0.000\"}, {\"Event\": \"Event -10\", \"Feature\": \"ICU$_{hours}$\", \"Shapley Value\": 0.0, \"rounded\": 0.0, \"rounded_str\": \"0.000\"}, {\"Event\": \"Event -10\", \"Feature\": \"PAP\", \"Shapley Value\": 0.0, \"rounded\": 0.0, \"rounded_str\": \"0.000\"}, {\"Event\": \"Event -11\", \"Feature\": \"Dosis nems\", \"Shapley Value\": 0.0, \"rounded\": 0.0, \"rounded_str\": \"0.000\"}, {\"Event\": \"Event -11\", \"Feature\": \"# pat$_{tot}$\", \"Shapley Value\": 0.0, \"rounded\": 0.0, \"rounded_str\": \"0.000\"}, {\"Event\": \"Event -8\", \"Feature\": \"MAC$_{n}$\", \"Shapley Value\": 0.0, \"rounded\": 0.0, \"rounded_str\": \"0.000\"}, {\"Event\": \"Event -11\", \"Feature\": \"PAP$_{n}$\", \"Shapley Value\": 0.0, \"rounded\": 0.0, \"rounded_str\": \"0.000\"}, {\"Event\": \"Event -11\", \"Feature\": \"Others$_{pc}$\", \"Shapley Value\": 0.0, \"rounded\": 0.0, \"rounded_str\": \"0.000\"}, {\"Event\": \"Event -11\", \"Feature\": \"PAP\", \"Shapley Value\": 0.0, \"rounded\": 0.0, \"rounded_str\": \"0.000\"}, {\"Event\": \"Event -12\", \"Feature\": \"MAC$_{n}$\", \"Shapley Value\": 0.0, \"rounded\": 0.0, \"rounded_str\": \"0.000\"}, {\"Event\": \"Event -10\", \"Feature\": \"# pat$_{tot}$\", \"Shapley Value\": 0.0, \"rounded\": 0.0, \"rounded_str\": \"0.000\"}, {\"Event\": \"Event -12\", \"Feature\": \"PAP$_{n}$\", \"Shapley Value\": 0.0, \"rounded\": 0.0, \"rounded_str\": \"0.000\"}, {\"Event\": \"Event -12\", \"Feature\": \"ICU$_{hours}$\", \"Shapley Value\": 0.0, \"rounded\": 0.0, \"rounded_str\": \"0.000\"}, {\"Event\": \"Event -12\", \"Feature\": \"Others$_{pc}$\", \"Shapley Value\": 0.0, \"rounded\": 0.0, \"rounded_str\": \"0.000\"}, {\"Event\": \"Event -12\", \"Feature\": \"PAP\", \"Shapley Value\": 0.0, \"rounded\": 0.0, \"rounded_str\": \"0.000\"}, {\"Event\": \"Event -13\", \"Feature\": \"MAC$_{n}$\", \"Shapley Value\": 0.0, \"rounded\": 0.0, \"rounded_str\": \"0.000\"}, {\"Event\": \"Event -13\", \"Feature\": \"PAP$_{n}$\", \"Shapley Value\": 0.0, \"rounded\": 0.0, \"rounded_str\": \"0.000\"}, {\"Event\": \"Event -13\", \"Feature\": \"Others$_{pc}$\", \"Shapley Value\": 0.0, \"rounded\": 0.0, \"rounded_str\": \"0.000\"}, {\"Event\": \"Event -13\", \"Feature\": \"CAR\", \"Shapley Value\": 0.0, \"rounded\": 0.0, \"rounded_str\": \"0.000\"}, {\"Event\": \"Event -14\", \"Feature\": \"Others$_{pc}$\", \"Shapley Value\": 0.0, \"rounded\": 0.0, \"rounded_str\": \"0.000\"}, {\"Event\": \"Event -10\", \"Feature\": \"MAC$_{n}$\", \"Shapley Value\": 0.0, \"rounded\": 0.0, \"rounded_str\": \"0.000\"}, {\"Event\": \"Event -11\", \"Feature\": \"MAC$_{n}$\", \"Shapley Value\": 0.0, \"rounded\": 0.0, \"rounded_str\": \"0.000\"}, {\"Event\": \"Event -10\", \"Feature\": \"Dosis nems\", \"Shapley Value\": 0.0, \"rounded\": 0.0, \"rounded_str\": \"0.000\"}, {\"Event\": \"Event -9\", \"Feature\": \"PAP$_{n}$\", \"Shapley Value\": 0.0, \"rounded\": 0.0, \"rounded_str\": \"0.000\"}, {\"Event\": \"Event -8\", \"Feature\": \"ICU$_{hours}$\", \"Shapley Value\": 0.0, \"rounded\": 0.0, \"rounded_str\": \"0.000\"}, {\"Event\": \"Event -8\", \"Feature\": \"PAP\", \"Shapley Value\": 0.0, \"rounded\": 0.0, \"rounded_str\": \"0.000\"}, {\"Event\": \"Event -8\", \"Feature\": \"CAR\", \"Shapley Value\": 0.0, \"rounded\": 0.0, \"rounded_str\": \"0.000\"}, {\"Event\": \"Event -9\", \"Feature\": \"Dosis nems\", \"Shapley Value\": 0.0, \"rounded\": 0.0, \"rounded_str\": \"0.000\"}, {\"Event\": \"Event -9\", \"Feature\": \"# pat$_{tot}$\", \"Shapley Value\": 0.0, \"rounded\": 0.0, \"rounded_str\": \"0.000\"}, {\"Event\": \"Event -8\", \"Feature\": \"PAP$_{n}$\", \"Shapley Value\": 0.0, \"rounded\": 0.0, \"rounded_str\": \"0.000\"}, {\"Event\": \"Event -9\", \"Feature\": \"MAC$_{n}$\", \"Shapley Value\": 0.0, \"rounded\": 0.0, \"rounded_str\": \"0.000\"}, {\"Event\": \"Event -9\", \"Feature\": \"ICU$_{hours}$\", \"Shapley Value\": 0.0, \"rounded\": 0.0, \"rounded_str\": \"0.000\"}, {\"Event\": \"Event -9\", \"Feature\": \"Others$_{pc}$\", \"Shapley Value\": 0.0, \"rounded\": 0.0, \"rounded_str\": \"0.000\"}, {\"Event\": \"Event -9\", \"Feature\": \"CAR\", \"Shapley Value\": 0.0, \"rounded\": 0.0, \"rounded_str\": \"0.000\"}, {\"Event\": \"Event -9\", \"Feature\": \"PAP\", \"Shapley Value\": 0.0, \"rounded\": 0.0, \"rounded_str\": \"0.000\"}, {\"Event\": \"Event -8\", \"Feature\": \"Others$_{pc}$\", \"Shapley Value\": 0.0, \"rounded\": 0.0, \"rounded_str\": \"0.000\"}, {\"Event\": \"Event -7\", \"Feature\": \"Others$_{pc}$\", \"Shapley Value\": -0.00020342186990562634, \"rounded\": -0.0, \"rounded_str\": \"0.000\"}, {\"Event\": \"Event -8\", \"Feature\": \"Other Features\", \"Shapley Value\": -0.00025959727333990656, \"rounded\": -0.0, \"rounded_str\": \"0.000\"}, {\"Event\": \"Event -11\", \"Feature\": \"ICU$_{hours}$\", \"Shapley Value\": -0.00032926443653483607, \"rounded\": -0.0, \"rounded_str\": \"0.000\"}, {\"Event\": \"Event -6\", \"Feature\": \"# pat$_{tot}$\", \"Shapley Value\": -0.000340640478064231, \"rounded\": -0.0, \"rounded_str\": \"0.000\"}, {\"Event\": \"Event -4\", \"Feature\": \"ICU$_{hours}$\", \"Shapley Value\": -0.0003570339965739268, \"rounded\": -0.0, \"rounded_str\": \"0.000\"}, {\"Event\": \"Event -3\", \"Feature\": \"Dosis nems\", \"Shapley Value\": -0.0003663232622863477, \"rounded\": -0.0, \"rounded_str\": \"0.000\"}, {\"Event\": \"Event -13\", \"Feature\": \"Dosis nems\", \"Shapley Value\": -0.00039793382062619357, \"rounded\": -0.0, \"rounded_str\": \"0.000\"}, {\"Event\": \"Event -10\", \"Feature\": \"Other Features\", \"Shapley Value\": -0.0004001731648789026, \"rounded\": -0.0, \"rounded_str\": \"0.000\"}, {\"Event\": \"Event -6\", \"Feature\": \"MAC$_{n}$\", \"Shapley Value\": -0.0004516502609455862, \"rounded\": -0.0, \"rounded_str\": \"0.000\"}, {\"Event\": \"Event -2\", \"Feature\": \"PAP\", \"Shapley Value\": -0.0005614493923831922, \"rounded\": -0.001, \"rounded_str\": \"-0.001\"}, {\"Event\": \"Event -11\", \"Feature\": \"Other Features\", \"Shapley Value\": -0.0005732451161776528, \"rounded\": -0.001, \"rounded_str\": \"-0.001\"}, {\"Event\": \"Event -4\", \"Feature\": \"PAP\", \"Shapley Value\": -0.0006998232172100135, \"rounded\": -0.001, \"rounded_str\": \"-0.001\"}, {\"Event\": \"Event -12\", \"Feature\": \"# pat$_{tot}$\", \"Shapley Value\": -0.0007452931773628215, \"rounded\": -0.001, \"rounded_str\": \"-0.001\"}, {\"Event\": \"Event -14\", \"Feature\": \"PAP$_{n}$\", \"Shapley Value\": -0.0007796193639057947, \"rounded\": -0.001, \"rounded_str\": \"-0.001\"}, {\"Event\": \"Event -7\", \"Feature\": \"ICU$_{hours}$\", \"Shapley Value\": -0.0007946542266072137, \"rounded\": -0.001, \"rounded_str\": \"-0.001\"}, {\"Event\": \"Event -1\", \"Feature\": \"# pat$_{tot}$\", \"Shapley Value\": -0.0008534219595080942, \"rounded\": -0.001, \"rounded_str\": \"-0.001\"}, {\"Event\": \"Event -6\", \"Feature\": \"Dosis nems\", \"Shapley Value\": -0.0009480785730009515, \"rounded\": -0.001, \"rounded_str\": \"-0.001\"}, {\"Event\": \"Event -2\", \"Feature\": \"# pat$_{tot}$\", \"Shapley Value\": -0.0009562438668995083, \"rounded\": -0.001, \"rounded_str\": \"-0.001\"}, {\"Event\": \"Event -14\", \"Feature\": \"PAP\", \"Shapley Value\": -0.0010078042862430839, \"rounded\": -0.001, \"rounded_str\": \"-0.001\"}, {\"Event\": \"Event -14\", \"Feature\": \"# pat$_{tot}$\", \"Shapley Value\": -0.0013281234129402157, \"rounded\": -0.001, \"rounded_str\": \"-0.001\"}, {\"Event\": \"Event -14\", \"Feature\": \"Other Features\", \"Shapley Value\": -0.0015391674368502946, \"rounded\": -0.002, \"rounded_str\": \"-0.002\"}, {\"Event\": \"Event -13\", \"Feature\": \"PAP\", \"Shapley Value\": -0.0016490380947071306, \"rounded\": -0.002, \"rounded_str\": \"-0.002\"}, {\"Event\": \"Event -6\", \"Feature\": \"CAR\", \"Shapley Value\": -0.0017455572500494252, \"rounded\": -0.002, \"rounded_str\": \"-0.002\"}, {\"Event\": \"Event -14\", \"Feature\": \"Dosis nems\", \"Shapley Value\": -0.0023418446169509183, \"rounded\": -0.002, \"rounded_str\": \"-0.002\"}, {\"Event\": \"Event -13\", \"Feature\": \"# pat$_{tot}$\", \"Shapley Value\": -0.0024558013873627314, \"rounded\": -0.002, \"rounded_str\": \"-0.002\"}, {\"Event\": \"Event -5\", \"Feature\": \"CAR\", \"Shapley Value\": -0.0027007451038546923, \"rounded\": -0.003, \"rounded_str\": \"-0.003\"}, {\"Event\": \"Event -4\", \"Feature\": \"CAR\", \"Shapley Value\": -0.0038423283011745826, \"rounded\": -0.004, \"rounded_str\": \"-0.004\"}, {\"Event\": \"Event -14\", \"Feature\": \"CAR\", \"Shapley Value\": -0.006133655449238167, \"rounded\": -0.006, \"rounded_str\": \"-0.006\"}, {\"Event\": \"Event -14\", \"Feature\": \"ICU$_{hours}$\", \"Shapley Value\": -0.0069566273696082485, \"rounded\": -0.007, \"rounded_str\": \"-0.007\"}, {\"Event\": \"Event -3\", \"Feature\": \"CAR\", \"Shapley Value\": -0.007400670922224757, \"rounded\": -0.007, \"rounded_str\": \"-0.007\"}, {\"Event\": \"Event -13\", \"Feature\": \"ICU$_{hours}$\", \"Shapley Value\": -0.007998851371032078, \"rounded\": -0.008, \"rounded_str\": \"-0.008\"}, {\"Event\": \"Event -2\", \"Feature\": \"CAR\", \"Shapley Value\": -0.01135157382542482, \"rounded\": -0.011, \"rounded_str\": \"-0.011\"}, {\"Event\": \"Event -1\", \"Feature\": \"CAR\", \"Shapley Value\": -0.018060083232633792, \"rounded\": -0.018, \"rounded_str\": \"-0.018\"}]}}, {\"mode\": \"vega-lite\"});\n",
       "</script>"
      ],
      "text/plain": [
       "alt.HConcatChart(...)"
      ]
     },
     "execution_count": 18,
     "metadata": {},
     "output_type": "execute_result"
    }
   ],
   "source": [
    "local_report(f_hs, pos_x_data, pruning_dict, event_dict, feature_dict,\n",
    "             cell_dict=cell_dict, entity_uuid='adb', entity_col='id', baseline=average_event)"
   ]
  },
  {
   "cell_type": "code",
   "execution_count": null,
   "metadata": {},
   "outputs": [],
   "source": []
  }
 ],
 "metadata": {
  "kernelspec": {
   "display_name": "Python 3",
   "language": "python",
   "name": "python3"
  },
  "language_info": {
   "codemirror_mode": {
    "name": "ipython",
    "version": 3
   },
   "file_extension": ".py",
   "mimetype": "text/x-python",
   "name": "python",
   "nbconvert_exporter": "python",
   "pygments_lexer": "ipython3",
   "version": "3.8.10"
  }
 },
 "nbformat": 4,
 "nbformat_minor": 5
}
