{
 "cells": [
  {
   "cell_type": "markdown",
   "metadata": {},
   "source": [
    "---\n",
    "# 1. Data-Processing\n",
    "---"
   ]
  },
  {
   "cell_type": "code",
   "execution_count": 1,
   "metadata": {},
   "outputs": [],
   "source": [
    "import pandas as pd\n",
    "import numpy as np\n",
    "\n",
    "np.random.seed(42)\n",
    "\n",
    "import warnings\n",
    "warnings.filterwarnings('ignore')\n",
    "\n",
    "from tensorflow.keras.models import load_model\n",
    "\n",
    "\n",
    "import altair as alt\n",
    "\n",
    "# Definir un tema personalizado \"feedzai\"\n",
    "def feedzai_theme():\n",
    "    return {\n",
    "        \"config\": {\n",
    "            \"view\": {\"continuousWidth\": 400, \"continuousHeight\": 300},\n",
    "            \"mark\": {\"color\": \"steelblue\"},\n",
    "        }\n",
    "    }\n",
    "\n",
    "# Registrar el tema\n",
    "alt.themes.register(\"feedzai\", feedzai_theme)\n",
    "alt.themes.enable(\"feedzai\")\n",
    "\n",
    "import sys\n",
    "# import sys\n",
    "sys.path.append(\"../../src\")\n",
    "from timeshap import __version__"
   ]
  },
  {
   "cell_type": "code",
   "execution_count": 2,
   "metadata": {},
   "outputs": [],
   "source": [
    "timeSteps = 14\n",
    "norm = \"robustNorm\"\n",
    "\n",
    "\n",
    "features =  ['timestamp', 'AMG', 'CAR', 'CF1', 'CF3', 'CF4',\n",
    "            'Others', 'GLI', 'LIN', 'LIP', 'MAC', 'NTI', 'OXA', 'PAP', 'PEN', 'POL',\n",
    "            'QUI', 'SUL', 'MV hours', 'Acinet$_{pc}$', 'Enterobac$_{pc}$', 'Enteroc$_{pc}$',\n",
    "            'Pseud$_{pc}$', 'Staph$_{pc}$', 'Others$_{pc}$', 'ICU$_{hours}$',\n",
    "            '# pat$_{atb}$', '# pat$_{MDR}$',\n",
    "            'CAR$_{n}$', 'PAP$_{n}$', \n",
    "            'Others$_{n}$', 'QUI$_{n}$',\n",
    "            'OXA$_{n}$', 'PEN$_{n}$', 'CF3$_{n}$', 'GLI$_{n}$',\n",
    "            'CF4$_{n}$', 'SUL$_{n}$', 'NTI$_{n}$', 'LIN$_{n}$',\n",
    "            'AMG$_{n}$', 'MAC$_{n}$', 'CF1$_{n}$', 'POL$_{n}$',\n",
    "            'LIP$_{n}$', '# pat$_{tot}$' ,'Post change',\n",
    "            'Insulin', 'Art nutrition', 'Sedation', 'Relax', 'Hepatic$_{fail}$',\n",
    "            'Renal$_{fail}$', 'Coagulation$_{fail}$', 'Hemodynamic$_{fail}$',\n",
    "            'Respiratory$_{fail}$', 'Multiorganic$_{fail}$',  '# transfusions',\n",
    "            'Vasoactive drug', 'Dosis nems', 'Tracheo$_{hours}$', 'Ulcer$_{hours}$',\n",
    "            'Hemo$_{hours}$', 'C01 PIVC 1',\n",
    "            'C01 PIVC 2', 'C02 CVC - RJ',\n",
    "            'C02 CVC - RS', 'C02 CVC - LS', 'C02 CVC - RF',\n",
    "            'C02 CVC - LJ', 'C02 CVC - LF', '# catheters']\n",
    "\n",
    "tf =  ['none', 'discreta', 'discreta', 'discreta', 'discreta', 'discreta', \n",
    "        'discreta', 'discreta', 'discreta', 'discreta', 'discreta',\n",
    "        'discreta', 'discreta', 'discreta', 'discreta', 'discreta',\n",
    "        'discreta', 'discreta', 'continua', 'discreta',  \n",
    "        'discreta', 'discreta', 'discreta', 'discreta', 'discreta', 'continua',\n",
    "        'continua', 'continua', 'continua',\n",
    "        'continua', 'continua', 'continua', 'continua',\n",
    "        'continua', 'continua', 'continua', 'continua',\n",
    "        'continua', 'continua', 'continua',\n",
    "        'continua', 'continua', 'continua', 'continua',\n",
    "        'continua', 'continua', 'discreta', 'discreta',\n",
    "        'discreta', 'discreta', 'discreta', 'discreta', 'discreta',\n",
    "        'discreta', 'discreta', 'discreta',\n",
    "        'discreta', 'continua', 'discreta', 'continua',\n",
    "        'continua', 'continua', 'continua',\n",
    "        'continua', 'continua', 'continua', 'continua', 'continua',\n",
    "        'continua', 'continua', 'continua','continua']\n",
    "\n",
    "idxs_cont = [i for i, value in enumerate(tf) if value == 'continua']\n",
    "continuos_features = [features[idx] for idx in idxs_cont]\n",
    "idxs_dis = [i for i, value in enumerate(tf) if value == 'discreta']\n",
    "discrete_features = [features[idx] for idx in idxs_dis]"
   ]
  },
  {
   "cell_type": "markdown",
   "metadata": {},
   "source": [
    "---\n",
    "# 2. Load RNN model\n",
    "---"
   ]
  },
  {
   "cell_type": "code",
   "execution_count": 3,
   "metadata": {},
   "outputs": [],
   "source": [
    "def weighted_binary_crossentropy(hyperparameters):\n",
    "    w1 = hyperparameters[\"w1\"]\n",
    "    w2 = hyperparameters[\"w2\"]\n",
    "    \"\"\"\n",
    "    Binary form of weighted binary cross entropy.\n",
    "      WBCE(p_t) = -w * (1 - p_t)* log(p_t)\n",
    "      where p = sigmoid(x), p_t = p or 1 - p depending on if the label is 1 or 0, respectively.\n",
    "    Usage:\n",
    "     model.compile(loss=[weighted_binary_crossentropyv2(hyperparameters)], metrics=[\"accuracy\"], optimizer=adam)\n",
    "    \"\"\"\n",
    "    def loss(y_true, y_pred):\n",
    "        \"\"\"\n",
    "        :param y_true: A tensor of the same shape as `y_pred`\n",
    "        :param y_pred:  A tensor resulting from a sigmoid\n",
    "        :return: Output tensor.\n",
    "        \"\"\"\n",
    "        pt_1 = tf.where(tf.equal(y_true, 1), y_pred, tf.ones_like(y_pred))\n",
    "        pt_0 = tf.where(tf.equal(y_true, 0), y_pred, tf.zeros_like(y_pred))\n",
    "\n",
    "        epsilon = K.epsilon()\n",
    "        # clip to prevent NaN's and Inf's\n",
    "        pt_1 = K.clip(pt_1, epsilon, 1. - epsilon)\n",
    "        pt_0 = K.clip(pt_0, epsilon, 1. - epsilon)\n",
    "\n",
    "        return -K.sum(w1 * (1. - pt_1) * K.log(pt_1)) \\\n",
    "               -K.sum(w2 * (pt_0) * K.log(1. - pt_0))\n",
    "\n",
    "    return loss"
   ]
  },
  {
   "cell_type": "code",
   "execution_count": 4,
   "metadata": {},
   "outputs": [
    {
     "name": "stdout",
     "output_type": "stream",
     "text": [
      "WARNING:tensorflow:Layer gru will not use cuDNN kernels since it doesn't meet the criteria. It will use a generic GPU kernel as fallback when running on GPU.\n",
      "Model: \"model\"\n",
      "_________________________________________________________________\n",
      " Layer (type)                Output Shape              Param #   \n",
      "=================================================================\n",
      " input_1 (InputLayer)        [(None, 14, 71)]          0         \n",
      "                                                                 \n",
      " masking (Masking)           (None, 14, 71)            0         \n",
      "                                                                 \n",
      " gru (GRU)                   (None, 3)                 666       \n",
      "                                                                 \n",
      " dense (Dense)               (None, 1)                 3         \n",
      "                                                                 \n",
      "=================================================================\n",
      "Total params: 669 (2.61 KB)\n",
      "Trainable params: 669 (2.61 KB)\n",
      "Non-trainable params: 0 (0.00 Byte)\n",
      "_________________________________________________________________\n",
      "33/33 [==============================] - 1s 5ms/step\n"
     ]
    }
   ],
   "source": [
    "y_pred_by_split = {}\n",
    "for i in range(1,4):\n",
    "    \n",
    "    # Step 1. Load data\n",
    "    X_train = np.load(f\"../../../../DATA/BBCET_cult_ok_19062024/s{i}/X_train_tensor_0{norm}.npy\")\n",
    "    X_test = np.load(f\"../../../../DATA/BBCET_cult_ok_19062024/s{i}/X_test_tensor_{norm}.npy\")\n",
    "    \n",
    "    X_train = np.delete(X_train, 44, axis=2)\n",
    "    X_test = np.delete(X_test, 44, axis=2)\n",
    "\n",
    "    y_test = pd.read_csv(f\"../../../../DATA/BBCET_cult_ok_19062024/s{i}/y_test_tensor_\"+norm+\".csv\")\n",
    "\n",
    "    \n",
    "    # Carga el modelo desde el archivo HDF5\n",
    "    model = load_model('./model_split_1.h5', custom_objects={'loss': weighted_binary_crossentropy})\n",
    "\n",
    "    # Verifica la estructura del modelo\n",
    "    model.summary()\n",
    "    y_pred = model.predict(x=X_test)\n",
    "    y_pred_by_split[str(i)] = y_pred\n",
    "    \n",
    "    break\n"
   ]
  },
  {
   "cell_type": "code",
   "execution_count": 5,
   "metadata": {},
   "outputs": [],
   "source": [
    "# Como timeSHAP no trata con irregular MTS, aplico zero padding\n",
    "X_train[X_train == 666] = 0\n",
    "# Creo una columna con los timestamp\n",
    "new_column = np.tile(np.arange(timeSteps), (X_train.shape[0], 1)) \n",
    "# Expandir para alinearse con la nueva dimensión\n",
    "new_column = new_column[..., np.newaxis]  # Forma (1961, 14, 1)\n",
    "# Paso 3: Concatenar la nueva columna al tensor original\n",
    "X_train = np.concatenate((new_column, X_train), axis=2) \n",
    "\n",
    "X_train_re = X_train.reshape(-1, X_train.shape[2])\n",
    "d_train_normalized = pd.DataFrame(X_train_re, columns=features)\n",
    "d_train_normalized['id'] = 'id'"
   ]
  },
  {
   "cell_type": "markdown",
   "metadata": {},
   "source": [
    "---\n",
    "# 3. TimeSHAP\n",
    "---"
   ]
  },
  {
   "cell_type": "code",
   "execution_count": 6,
   "metadata": {},
   "outputs": [],
   "source": [
    "import TFWrapper\n",
    "from timeshap.wrappers import TorchModelWrapper\n",
    "model_wrapped = TFWrapper.KerasModelWrapper(model)\n",
    "f_hs = lambda x, y=None: model_wrapped.predict_last_hs(x, y)"
   ]
  },
  {
   "cell_type": "markdown",
   "metadata": {},
   "source": [
    "### Baseline event"
   ]
  },
  {
   "cell_type": "code",
   "execution_count": 7,
   "metadata": {},
   "outputs": [],
   "source": [
    "from timeshap.utils import calc_avg_event\n",
    "average_event = calc_avg_event(d_train_normalized, numerical_feats=continuos_features, categorical_feats=discrete_features)"
   ]
  },
  {
   "cell_type": "markdown",
   "metadata": {},
   "source": [
    "### Baseline Sequence"
   ]
  },
  {
   "cell_type": "code",
   "execution_count": 8,
   "metadata": {},
   "outputs": [],
   "source": [
    "from timeshap.utils import calc_avg_sequence\n",
    "average_sequence = calc_avg_sequence(d_train_normalized, numerical_feats=continuos_features, categorical_feats=discrete_features, model_features=features, entity_col=['id'])"
   ]
  },
  {
   "cell_type": "markdown",
   "metadata": {},
   "source": [
    "## 3.1 Local Explanations"
   ]
  },
  {
   "cell_type": "code",
   "execution_count": 9,
   "metadata": {},
   "outputs": [],
   "source": [
    "# AQUI DEBERIA SER DE TEST\n",
    "pos_x_data = d_train_normalized.iloc[0:14]\n",
    "# convert the instance to numpy so TimeSHAP receives it\n",
    "pos_x_data = np.expand_dims(pos_x_data.to_numpy().copy(), axis=0)\n",
    "pos_x_data = pos_x_data[:,:,1:-1]\n",
    "\n",
    "from timeshap.explainer import local_report"
   ]
  },
  {
   "cell_type": "markdown",
   "metadata": {},
   "source": [
    "### Local Report  API"
   ]
  },
  {
   "cell_type": "code",
   "execution_count": 14,
   "metadata": {},
   "outputs": [],
   "source": [
    "def create_dicc(lista):\n",
    "    dicc = {}\n",
    "    for elemento in lista:\n",
    "        dicc[elemento] = elemento\n",
    "    return dicc\n",
    "\n",
    "features_new = features[1:]\n",
    "diccionario = create_dicc(features_new)\n",
    "\n",
    "# local report parameters\n",
    "pruning_dict = {'tol': 0.00} # I do not want to activate prunning \n",
    "event_dict = {'rs': 42, 'nsamples': 3200}\n",
    "feature_dict = {'rs': 42, 'nsamples': 3200, 'feature_names': features_new, 'plot_features': diccionario}\n",
    "cell_dict = {'rs': 42, 'nsamples': 3200, 'top_x_feats': 8, 'top_x_events': 80}"
   ]
  },
  {
   "cell_type": "code",
   "execution_count": 15,
   "metadata": {
    "scrolled": false
   },
   "outputs": [
    {
     "name": "stdout",
     "output_type": "stream",
     "text": [
      "Assuming all features are model features\n"
     ]
    },
    {
     "data": {
      "text/html": [
       "\n",
       "<style>\n",
       "  #altair-viz-1d20175afdf840bc93c9ef26b1843d95.vega-embed {\n",
       "    width: 100%;\n",
       "    display: flex;\n",
       "  }\n",
       "\n",
       "  #altair-viz-1d20175afdf840bc93c9ef26b1843d95.vega-embed details,\n",
       "  #altair-viz-1d20175afdf840bc93c9ef26b1843d95.vega-embed details summary {\n",
       "    position: relative;\n",
       "  }\n",
       "</style>\n",
       "<div id=\"altair-viz-1d20175afdf840bc93c9ef26b1843d95\"></div>\n",
       "<script type=\"text/javascript\">\n",
       "  var VEGA_DEBUG = (typeof VEGA_DEBUG == \"undefined\") ? {} : VEGA_DEBUG;\n",
       "  (function(spec, embedOpt){\n",
       "    let outputDiv = document.currentScript.previousElementSibling;\n",
       "    if (outputDiv.id !== \"altair-viz-1d20175afdf840bc93c9ef26b1843d95\") {\n",
       "      outputDiv = document.getElementById(\"altair-viz-1d20175afdf840bc93c9ef26b1843d95\");\n",
       "    }\n",
       "    const paths = {\n",
       "      \"vega\": \"https://cdn.jsdelivr.net/npm/vega@5?noext\",\n",
       "      \"vega-lib\": \"https://cdn.jsdelivr.net/npm/vega-lib?noext\",\n",
       "      \"vega-lite\": \"https://cdn.jsdelivr.net/npm/vega-lite@5.20.1?noext\",\n",
       "      \"vega-embed\": \"https://cdn.jsdelivr.net/npm/vega-embed@6?noext\",\n",
       "    };\n",
       "\n",
       "    function maybeLoadScript(lib, version) {\n",
       "      var key = `${lib.replace(\"-\", \"\")}_version`;\n",
       "      return (VEGA_DEBUG[key] == version) ?\n",
       "        Promise.resolve(paths[lib]) :\n",
       "        new Promise(function(resolve, reject) {\n",
       "          var s = document.createElement('script');\n",
       "          document.getElementsByTagName(\"head\")[0].appendChild(s);\n",
       "          s.async = true;\n",
       "          s.onload = () => {\n",
       "            VEGA_DEBUG[key] = version;\n",
       "            return resolve(paths[lib]);\n",
       "          };\n",
       "          s.onerror = () => reject(`Error loading script: ${paths[lib]}`);\n",
       "          s.src = paths[lib];\n",
       "        });\n",
       "    }\n",
       "\n",
       "    function showError(err) {\n",
       "      outputDiv.innerHTML = `<div class=\"error\" style=\"color:red;\">${err}</div>`;\n",
       "      throw err;\n",
       "    }\n",
       "\n",
       "    function displayChart(vegaEmbed) {\n",
       "      vegaEmbed(outputDiv, spec, embedOpt)\n",
       "        .catch(err => showError(`Javascript Error: ${err.message}<br>This usually means there's a typo in your chart specification. See the javascript console for the full traceback.`));\n",
       "    }\n",
       "\n",
       "    if(typeof define === \"function\" && define.amd) {\n",
       "      requirejs.config({paths});\n",
       "      require([\"vega-embed\"], displayChart, err => showError(`Error loading script: ${err.message}`));\n",
       "    } else {\n",
       "      maybeLoadScript(\"vega\", \"5\")\n",
       "        .then(() => maybeLoadScript(\"vega-lite\", \"5.20.1\"))\n",
       "        .then(() => maybeLoadScript(\"vega-embed\", \"6\"))\n",
       "        .catch(showError)\n",
       "        .then(() => displayChart(vegaEmbed));\n",
       "    }\n",
       "  })({\"config\": {\"view\": {\"continuousWidth\": 400, \"continuousHeight\": 300}, \"mark\": {\"color\": \"steelblue\"}}, \"hconcat\": [{\"layer\": [{\"mark\": {\"type\": \"area\", \"opacity\": 0.5}, \"encoding\": {\"color\": {\"field\": \"Coalition\", \"legend\": {\"fillColor\": \"white\", \"labelFontSize\": 14, \"labelLimit\": 0, \"orient\": \"top-left\", \"symbolSize\": 50, \"symbolStrokeWidth\": 0, \"title\": null}, \"scale\": {\"domain\": [\"Sum of contribution of events \\u2264 t\"], \"range\": [\"#618FE0\"]}, \"type\": \"nominal\"}, \"x\": {\"axis\": {\"labelFontSize\": 15, \"title\": \"t (event index)\", \"titleFontSize\": 15}, \"field\": \"t (event index)\", \"type\": \"quantitative\"}, \"y\": {\"axis\": {\"grid\": true, \"labelFontSize\": 15, \"titleFontSize\": 15, \"titleX\": -28}, \"field\": \"Shapley Value\", \"scale\": {\"domain\": [-0.05, 1]}, \"type\": \"quantitative\"}}}, {\"mark\": {\"type\": \"line\"}, \"encoding\": {\"color\": {\"field\": \"Coalition\", \"legend\": {\"fillColor\": \"white\", \"labelFontSize\": 14, \"labelLimit\": 0, \"orient\": \"top-left\", \"symbolSize\": 50, \"symbolStrokeWidth\": 0, \"title\": null}, \"scale\": {\"domain\": [\"Sum of contribution of events \\u2264 t\"], \"range\": [\"#618FE0\"]}, \"type\": \"nominal\"}, \"x\": {\"axis\": {\"labelFontSize\": 15, \"title\": \"t (event index)\", \"titleFontSize\": 15}, \"field\": \"t (event index)\", \"type\": \"quantitative\"}, \"y\": {\"axis\": {\"grid\": true, \"labelFontSize\": 15, \"titleFontSize\": 15, \"titleX\": -28}, \"field\": \"Shapley Value\", \"scale\": {\"domain\": [-0.05, 1]}, \"type\": \"quantitative\"}}}, {\"data\": {\"name\": \"data-788b093171cca64ebde24473bc76bb83\"}, \"mark\": {\"type\": \"rule\", \"color\": \"#E17560\"}, \"encoding\": {\"x\": {\"field\": \"x\", \"type\": \"quantitative\"}}}, {\"data\": {\"name\": \"data-2025c98a7ea579ceb69de957ff6cacd9\"}, \"mark\": {\"type\": \"text\", \"angle\": 270, \"color\": \"#E17560\", \"fontSize\": 15, \"fontWeight\": \"bold\", \"text\": \"Pruning\"}, \"encoding\": {\"x\": {\"field\": \"x\", \"type\": \"quantitative\"}}}], \"data\": {\"name\": \"data-e17e03b036d323e4a6825a8ecee205cd\"}, \"height\": 225, \"width\": 350}, {\"layer\": [{\"mark\": {\"type\": \"rect\"}, \"encoding\": {\"color\": {\"field\": \"rounded\", \"legend\": {\"gradientLength\": 225, \"gradientThickness\": 10, \"labelFontSize\": 15, \"orient\": \"right\"}, \"scale\": {\"domain\": [-0.5, 0.5], \"range\": [\"#5f8fd6\", \"#99c3fb\", \"#f5f5f5\", \"#ffaa92\", \"#d16f5b\"]}, \"title\": null, \"type\": \"quantitative\"}, \"x\": {\"axis\": {\"title\": \"Shapley Value\", \"titleFontSize\": 15}, \"field\": \"column\", \"type\": \"ordinal\"}, \"y\": {\"axis\": {\"domain\": false, \"labelFontSize\": 15, \"title\": \"Event\", \"titleFontSize\": 15, \"titleX\": -75}, \"field\": \"Feature\", \"sort\": [\"Event -1\", \"Event -2\", \"Event -3\", \"Event -4\", \"Event -5\", \"Event -6\", \"Event -7\", \"Event -8\", \"Event -9\", \"Event -10\", \"Event -11\", \"Event -12\", \"Event -13\", \"Event -14\"], \"type\": \"ordinal\"}}}, {\"mark\": {\"type\": \"text\", \"align\": \"right\", \"baseline\": \"middle\", \"color\": \"#798184\", \"dx\": 18, \"fontSize\": 15}, \"encoding\": {\"text\": {\"field\": \"rounded_str\", \"type\": \"nominal\"}, \"x\": {\"axis\": {\"domain\": false, \"labels\": false, \"title\": \"Shapley Value\", \"titleX\": 43}, \"field\": \"column\", \"type\": \"ordinal\"}, \"y\": {\"axis\": {\"domain\": false, \"labelFontSize\": 15, \"title\": \"Event\", \"titleFontSize\": 15, \"titleX\": -75}, \"field\": \"Feature\", \"sort\": [\"Event -1\", \"Event -2\", \"Event -3\", \"Event -4\", \"Event -5\", \"Event -6\", \"Event -7\", \"Event -8\", \"Event -9\", \"Event -10\", \"Event -11\", \"Event -12\", \"Event -13\", \"Event -14\"], \"type\": \"ordinal\"}}}], \"data\": {\"name\": \"data-80562c77650934d3456d388c0a4aa992\"}, \"height\": 250, \"width\": 200}, {\"layer\": [{\"data\": {\"name\": \"data-7687a98d284728b8870f261909604b25\"}, \"mark\": {\"type\": \"bar\", \"size\": 15, \"thickness\": 1}, \"encoding\": {\"x\": {\"axis\": {\"grid\": true, \"labelFontSize\": 15, \"title\": \"Shapley Value\", \"titleFontSize\": 15}, \"field\": \"Shapley Value\", \"scale\": {\"domain\": [-0.1, 0.4]}, \"type\": \"quantitative\"}, \"y\": {\"axis\": {\"labelFontSize\": 13, \"title\": \"Feature\", \"titleFontSize\": 15, \"titleX\": -120}, \"field\": \"Feature\", \"sort\": {\"field\": \"sort_col\", \"order\": \"descending\"}, \"type\": \"nominal\"}}}, {\"data\": {\"name\": \"data-d285a7403ed98ae579761d64a864032b\"}, \"mark\": {\"type\": \"rule\", \"color\": \"#798184\"}, \"encoding\": {\"x\": {\"field\": \"x\", \"type\": \"quantitative\"}}}], \"height\": 850, \"width\": 400}, {\"layer\": [{\"mark\": {\"type\": \"rect\"}, \"encoding\": {\"color\": {\"field\": \"rounded\", \"legend\": {\"gradientLength\": 800, \"gradientThickness\": 10, \"labelFontSize\": 15, \"orient\": \"right\"}, \"scale\": {\"domain\": [-0.5, 0.5], \"range\": [\"#5f8fd6\", \"#99c3fb\", \"#f5f5f5\", \"#ffaa92\", \"#d16f5b\"]}, \"title\": null, \"type\": \"quantitative\"}, \"x\": {\"axis\": {\"titleFontSize\": 15}, \"field\": \"Event\", \"sort\": [\"Event -9\", \"Event -8\", \"Event -7\", \"Event -6\", \"Event -5\", \"Event -4\", \"Event -3\", \"Event -2\", \"Event -14\", \"Event -13\", \"Event -12\", \"Event -11\", \"Event -10\", \"Event -1\"], \"type\": \"nominal\"}, \"y\": {\"axis\": {\"domain\": false, \"labelFontSize\": 15, \"title\": null}, \"field\": \"Feature\", \"sort\": [\"PAP\", \"Others$_{pc}$\", \"ICU$_{hours}$\", \"CAR$_{n}$\", \"PAP$_{n}$\", \"MAC$_{n}$\", \"# pat$_{tot}$\", \"Dosis nems\"], \"type\": \"nominal\"}}}, {\"mark\": {\"type\": \"text\", \"align\": \"right\", \"baseline\": \"middle\", \"color\": \"#798184\", \"dx\": 18, \"fontSize\": 15}, \"encoding\": {\"text\": {\"field\": \"rounded_str\", \"type\": \"nominal\"}, \"x\": {\"axis\": {\"domain\": false, \"labelAngle\": 30, \"labelFontSize\": 15, \"orient\": \"top\", \"title\": \"Shapley Value\", \"titleX\": 172, \"titleY\": 820}, \"field\": \"Event\", \"sort\": [\"Event -9\", \"Event -8\", \"Event -7\", \"Event -6\", \"Event -5\", \"Event -4\", \"Event -3\", \"Event -2\", \"Event -14\", \"Event -13\", \"Event -12\", \"Event -11\", \"Event -10\", \"Event -1\"], \"type\": \"nominal\"}, \"y\": {\"axis\": {\"domain\": false, \"labelFontSize\": 15, \"title\": null}, \"field\": \"Feature\", \"sort\": [\"PAP\", \"Others$_{pc}$\", \"ICU$_{hours}$\", \"CAR$_{n}$\", \"PAP$_{n}$\", \"MAC$_{n}$\", \"# pat$_{tot}$\", \"Dosis nems\"], \"type\": \"nominal\"}}}], \"data\": {\"name\": \"data-85bd3a15797864957145404e6bdf7222\"}, \"height\": 800, \"width\": 640}], \"resolve\": {\"scale\": {\"color\": \"independent\"}}, \"$schema\": \"https://vega.github.io/schema/vega-lite/v5.20.1.json\", \"datasets\": {\"data-e17e03b036d323e4a6825a8ecee205cd\": [{\"Coalition\": \"Sum of contribution of events > t\", \"t (event index)\": 0, \"Shapley Value\": 0.0}, {\"Coalition\": \"Sum of contribution of events \\u2264 t\", \"t (event index)\": 0, \"Shapley Value\": 0.014557421207427979}, {\"Coalition\": \"Sum of contribution of events > t\", \"t (event index)\": -1, \"Shapley Value\": 0.0}, {\"Coalition\": \"Sum of contribution of events \\u2264 t\", \"t (event index)\": -1, \"Shapley Value\": 0.014557421207427979}, {\"Coalition\": \"Sum of contribution of events > t\", \"t (event index)\": -2, \"Shapley Value\": 0.0}, {\"Coalition\": \"Sum of contribution of events \\u2264 t\", \"t (event index)\": -2, \"Shapley Value\": 0.014557421207427979}, {\"Coalition\": \"Sum of contribution of events > t\", \"t (event index)\": -3, \"Shapley Value\": 0.0}, {\"Coalition\": \"Sum of contribution of events \\u2264 t\", \"t (event index)\": -3, \"Shapley Value\": 0.014557421207427979}, {\"Coalition\": \"Sum of contribution of events > t\", \"t (event index)\": -4, \"Shapley Value\": 0.0}, {\"Coalition\": \"Sum of contribution of events \\u2264 t\", \"t (event index)\": -4, \"Shapley Value\": 0.014557421207427979}, {\"Coalition\": \"Sum of contribution of events > t\", \"t (event index)\": -5, \"Shapley Value\": 0.0}, {\"Coalition\": \"Sum of contribution of events \\u2264 t\", \"t (event index)\": -5, \"Shapley Value\": 0.014557421207427979}, {\"Coalition\": \"Sum of contribution of events > t\", \"t (event index)\": -6, \"Shapley Value\": 0.0}, {\"Coalition\": \"Sum of contribution of events \\u2264 t\", \"t (event index)\": -6, \"Shapley Value\": 0.014557421207427979}, {\"Coalition\": \"Sum of contribution of events > t\", \"t (event index)\": -7, \"Shapley Value\": 0.0}, {\"Coalition\": \"Sum of contribution of events \\u2264 t\", \"t (event index)\": -7, \"Shapley Value\": 0.014557421207427979}, {\"Coalition\": \"Sum of contribution of events > t\", \"t (event index)\": -8, \"Shapley Value\": 0.0}, {\"Coalition\": \"Sum of contribution of events \\u2264 t\", \"t (event index)\": -8, \"Shapley Value\": 0.014557421207427979}, {\"Coalition\": \"Sum of contribution of events > t\", \"t (event index)\": -9, \"Shapley Value\": 0.0}, {\"Coalition\": \"Sum of contribution of events \\u2264 t\", \"t (event index)\": -9, \"Shapley Value\": 0.014557421207427979}, {\"Coalition\": \"Sum of contribution of events > t\", \"t (event index)\": -10, \"Shapley Value\": 0.0}, {\"Coalition\": \"Sum of contribution of events \\u2264 t\", \"t (event index)\": -10, \"Shapley Value\": 0.014557421207427979}, {\"Coalition\": \"Sum of contribution of events > t\", \"t (event index)\": -11, \"Shapley Value\": 0.0}, {\"Coalition\": \"Sum of contribution of events \\u2264 t\", \"t (event index)\": -11, \"Shapley Value\": 0.014557421207427979}, {\"Coalition\": \"Sum of contribution of events > t\", \"t (event index)\": -12, \"Shapley Value\": 0.0}, {\"Coalition\": \"Sum of contribution of events \\u2264 t\", \"t (event index)\": -12, \"Shapley Value\": 0.014557421207427979}, {\"Coalition\": \"Sum of contribution of events > t\", \"t (event index)\": -13, \"Shapley Value\": 0.010554134845733643}, {\"Coalition\": \"Sum of contribution of events \\u2264 t\", \"t (event index)\": -13, \"Shapley Value\": 0.004003286361694336}, {\"Coalition\": \"Sum of contribution of events > t\", \"t (event index)\": -14, \"Shapley Value\": 0.014557421207427979}, {\"Coalition\": \"Sum of contribution of events \\u2264 t\", \"t (event index)\": -14, \"Shapley Value\": 0.0}], \"data-788b093171cca64ebde24473bc76bb83\": [{\"x\": -14}], \"data-2025c98a7ea579ceb69de957ff6cacd9\": [{\"x\": -16}], \"data-80562c77650934d3456d388c0a4aa992\": [{\"Shapley Value\": 0.0, \"Feature\": \"Event -1\", \"row\": 1, \"column\": 1, \"rounded\": 0.0, \"rounded_str\": \"0.000\"}, {\"Shapley Value\": 0.0, \"Feature\": \"Event -2\", \"row\": 2, \"column\": 1, \"rounded\": 0.0, \"rounded_str\": \"0.000\"}, {\"Shapley Value\": 0.0, \"Feature\": \"Event -3\", \"row\": 3, \"column\": 1, \"rounded\": 0.0, \"rounded_str\": \"0.000\"}, {\"Shapley Value\": 0.0, \"Feature\": \"Event -4\", \"row\": 4, \"column\": 1, \"rounded\": 0.0, \"rounded_str\": \"0.000\"}, {\"Shapley Value\": 0.0, \"Feature\": \"Event -5\", \"row\": 5, \"column\": 1, \"rounded\": 0.0, \"rounded_str\": \"0.000\"}, {\"Shapley Value\": 0.0, \"Feature\": \"Event -6\", \"row\": 6, \"column\": 1, \"rounded\": 0.0, \"rounded_str\": \"0.000\"}, {\"Shapley Value\": 0.0, \"Feature\": \"Event -7\", \"row\": 7, \"column\": 1, \"rounded\": 0.0, \"rounded_str\": \"0.000\"}, {\"Shapley Value\": 0.0, \"Feature\": \"Event -8\", \"row\": 8, \"column\": 1, \"rounded\": 0.0, \"rounded_str\": \"0.000\"}, {\"Shapley Value\": 0.0, \"Feature\": \"Event -9\", \"row\": 9, \"column\": 1, \"rounded\": 0.0, \"rounded_str\": \"0.000\"}, {\"Shapley Value\": 0.0, \"Feature\": \"Event -10\", \"row\": 10, \"column\": 1, \"rounded\": 0.0, \"rounded_str\": \"0.000\"}, {\"Shapley Value\": 0.0, \"Feature\": \"Event -11\", \"row\": 11, \"column\": 1, \"rounded\": 0.0, \"rounded_str\": \"0.000\"}, {\"Shapley Value\": 0.0, \"Feature\": \"Event -12\", \"row\": 12, \"column\": 1, \"rounded\": 0.0, \"rounded_str\": \"0.000\"}, {\"Shapley Value\": 0.010554969551427198, \"Feature\": \"Event -13\", \"row\": 13, \"column\": 1, \"rounded\": 0.011, \"rounded_str\": \"0.011\"}, {\"Shapley Value\": 0.00400245165600078, \"Feature\": \"Event -14\", \"row\": 14, \"column\": 1, \"rounded\": 0.004, \"rounded_str\": \"0.004\"}], \"data-7687a98d284728b8870f261909604b25\": [{\"Random seed\": 42, \"NSamples\": 3200, \"Feature\": \"AMG\", \"Shapley Value\": 0.0, \"sort_col\": 0.0}, {\"Random seed\": 42, \"NSamples\": 3200, \"Feature\": \"CAR\", \"Shapley Value\": 0.0, \"sort_col\": 0.0}, {\"Random seed\": 42, \"NSamples\": 3200, \"Feature\": \"CF1\", \"Shapley Value\": 0.0, \"sort_col\": 0.0}, {\"Random seed\": 42, \"NSamples\": 3200, \"Feature\": \"CF3\", \"Shapley Value\": 0.0, \"sort_col\": 0.0}, {\"Random seed\": 42, \"NSamples\": 3200, \"Feature\": \"CF4\", \"Shapley Value\": 0.0, \"sort_col\": 0.0}, {\"Random seed\": 42, \"NSamples\": 3200, \"Feature\": \"Others\", \"Shapley Value\": 0.0, \"sort_col\": 0.0}, {\"Random seed\": 42, \"NSamples\": 3200, \"Feature\": \"GLI\", \"Shapley Value\": 0.0, \"sort_col\": 0.0}, {\"Random seed\": 42, \"NSamples\": 3200, \"Feature\": \"LIN\", \"Shapley Value\": 0.0, \"sort_col\": 0.0}, {\"Random seed\": 42, \"NSamples\": 3200, \"Feature\": \"LIP\", \"Shapley Value\": 0.0, \"sort_col\": 0.0}, {\"Random seed\": 42, \"NSamples\": 3200, \"Feature\": \"MAC\", \"Shapley Value\": 0.0, \"sort_col\": 0.0}, {\"Random seed\": 42, \"NSamples\": 3200, \"Feature\": \"NTI\", \"Shapley Value\": 0.0, \"sort_col\": 0.0}, {\"Random seed\": 42, \"NSamples\": 3200, \"Feature\": \"OXA\", \"Shapley Value\": 0.0, \"sort_col\": 0.0}, {\"Random seed\": 42, \"NSamples\": 3200, \"Feature\": \"PAP\", \"Shapley Value\": 0.005567951890684303, \"sort_col\": 0.005567951890684303}, {\"Random seed\": 42, \"NSamples\": 3200, \"Feature\": \"PEN\", \"Shapley Value\": 0.0, \"sort_col\": 0.0}, {\"Random seed\": 42, \"NSamples\": 3200, \"Feature\": \"POL\", \"Shapley Value\": 0.0, \"sort_col\": 0.0}, {\"Random seed\": 42, \"NSamples\": 3200, \"Feature\": \"QUI\", \"Shapley Value\": 0.0, \"sort_col\": 0.0}, {\"Random seed\": 42, \"NSamples\": 3200, \"Feature\": \"SUL\", \"Shapley Value\": 0.0, \"sort_col\": 0.0}, {\"Random seed\": 42, \"NSamples\": 3200, \"Feature\": \"MV hours\", \"Shapley Value\": 0.0, \"sort_col\": 0.0}, {\"Random seed\": 42, \"NSamples\": 3200, \"Feature\": \"Acinet$_{pc}$\", \"Shapley Value\": 0.0, \"sort_col\": 0.0}, {\"Random seed\": 42, \"NSamples\": 3200, \"Feature\": \"Enterobac$_{pc}$\", \"Shapley Value\": 0.0, \"sort_col\": 0.0}, {\"Random seed\": 42, \"NSamples\": 3200, \"Feature\": \"Enteroc$_{pc}$\", \"Shapley Value\": 0.0, \"sort_col\": 0.0}, {\"Random seed\": 42, \"NSamples\": 3200, \"Feature\": \"Pseud$_{pc}$\", \"Shapley Value\": 0.0, \"sort_col\": 0.0}, {\"Random seed\": 42, \"NSamples\": 3200, \"Feature\": \"Staph$_{pc}$\", \"Shapley Value\": 0.0, \"sort_col\": 0.0}, {\"Random seed\": 42, \"NSamples\": 3200, \"Feature\": \"Others$_{pc}$\", \"Shapley Value\": 0.00032794691977047156, \"sort_col\": 0.00032794691977047156}, {\"Random seed\": 42, \"NSamples\": 3200, \"Feature\": \"ICU$_{hours}$\", \"Shapley Value\": 0.00029526980859893035, \"sort_col\": 0.00029526980859893035}, {\"Random seed\": 42, \"NSamples\": 3200, \"Feature\": \"# pat$_{atb}$\", \"Shapley Value\": 0.0, \"sort_col\": 0.0}, {\"Random seed\": 42, \"NSamples\": 3200, \"Feature\": \"# pat$_{MDR}$\", \"Shapley Value\": 0.0, \"sort_col\": 0.0}, {\"Random seed\": 42, \"NSamples\": 3200, \"Feature\": \"CAR$_{n}$\", \"Shapley Value\": 0.00014108224284081457, \"sort_col\": 0.00014108224284081457}, {\"Random seed\": 42, \"NSamples\": 3200, \"Feature\": \"PAP$_{n}$\", \"Shapley Value\": 0.0023867757902258915, \"sort_col\": 0.0023867757902258915}, {\"Random seed\": 42, \"NSamples\": 3200, \"Feature\": \"Others$_{n}$\", \"Shapley Value\": 0.0, \"sort_col\": 0.0}, {\"Random seed\": 42, \"NSamples\": 3200, \"Feature\": \"QUI$_{n}$\", \"Shapley Value\": 0.0, \"sort_col\": 0.0}, {\"Random seed\": 42, \"NSamples\": 3200, \"Feature\": \"OXA$_{n}$\", \"Shapley Value\": 0.0, \"sort_col\": 0.0}, {\"Random seed\": 42, \"NSamples\": 3200, \"Feature\": \"PEN$_{n}$\", \"Shapley Value\": 0.0, \"sort_col\": 0.0}, {\"Random seed\": 42, \"NSamples\": 3200, \"Feature\": \"CF3$_{n}$\", \"Shapley Value\": 0.0, \"sort_col\": 0.0}, {\"Random seed\": 42, \"NSamples\": 3200, \"Feature\": \"GLI$_{n}$\", \"Shapley Value\": 0.0, \"sort_col\": 0.0}, {\"Random seed\": 42, \"NSamples\": 3200, \"Feature\": \"CF4$_{n}$\", \"Shapley Value\": 0.0, \"sort_col\": 0.0}, {\"Random seed\": 42, \"NSamples\": 3200, \"Feature\": \"SUL$_{n}$\", \"Shapley Value\": 0.0, \"sort_col\": 0.0}, {\"Random seed\": 42, \"NSamples\": 3200, \"Feature\": \"NTI$_{n}$\", \"Shapley Value\": 0.0, \"sort_col\": 0.0}, {\"Random seed\": 42, \"NSamples\": 3200, \"Feature\": \"LIN$_{n}$\", \"Shapley Value\": 0.0, \"sort_col\": 0.0}, {\"Random seed\": 42, \"NSamples\": 3200, \"Feature\": \"AMG$_{n}$\", \"Shapley Value\": 0.0, \"sort_col\": 0.0}, {\"Random seed\": 42, \"NSamples\": 3200, \"Feature\": \"MAC$_{n}$\", \"Shapley Value\": -0.0034944281336807, \"sort_col\": 0.0034944281336807}, {\"Random seed\": 42, \"NSamples\": 3200, \"Feature\": \"CF1$_{n}$\", \"Shapley Value\": 0.0, \"sort_col\": 0.0}, {\"Random seed\": 42, \"NSamples\": 3200, \"Feature\": \"POL$_{n}$\", \"Shapley Value\": 0.0, \"sort_col\": 0.0}, {\"Random seed\": 42, \"NSamples\": 3200, \"Feature\": \"LIP$_{n}$\", \"Shapley Value\": 0.0, \"sort_col\": 0.0}, {\"Random seed\": 42, \"NSamples\": 3200, \"Feature\": \"# pat$_{tot}$\", \"Shapley Value\": 0.0032608171658856473, \"sort_col\": 0.0032608171658856473}, {\"Random seed\": 42, \"NSamples\": 3200, \"Feature\": \"Post change\", \"Shapley Value\": 0.0, \"sort_col\": 0.0}, {\"Random seed\": 42, \"NSamples\": 3200, \"Feature\": \"Insulin\", \"Shapley Value\": 0.0, \"sort_col\": 0.0}, {\"Random seed\": 42, \"NSamples\": 3200, \"Feature\": \"Art nutrition\", \"Shapley Value\": 0.0, \"sort_col\": 0.0}, {\"Random seed\": 42, \"NSamples\": 3200, \"Feature\": \"Sedation\", \"Shapley Value\": 0.0, \"sort_col\": 0.0}, {\"Random seed\": 42, \"NSamples\": 3200, \"Feature\": \"Relax\", \"Shapley Value\": 0.0, \"sort_col\": 0.0}, {\"Random seed\": 42, \"NSamples\": 3200, \"Feature\": \"Hepatic$_{fail}$\", \"Shapley Value\": 0.0, \"sort_col\": 0.0}, {\"Random seed\": 42, \"NSamples\": 3200, \"Feature\": \"Renal$_{fail}$\", \"Shapley Value\": 0.0, \"sort_col\": 0.0}, {\"Random seed\": 42, \"NSamples\": 3200, \"Feature\": \"Coagulation$_{fail}$\", \"Shapley Value\": 0.0, \"sort_col\": 0.0}, {\"Random seed\": 42, \"NSamples\": 3200, \"Feature\": \"Hemodynamic$_{fail}$\", \"Shapley Value\": 0.0, \"sort_col\": 0.0}, {\"Random seed\": 42, \"NSamples\": 3200, \"Feature\": \"Respiratory$_{fail}$\", \"Shapley Value\": 0.0, \"sort_col\": 0.0}, {\"Random seed\": 42, \"NSamples\": 3200, \"Feature\": \"Multiorganic$_{fail}$\", \"Shapley Value\": 0.0, \"sort_col\": 0.0}, {\"Random seed\": 42, \"NSamples\": 3200, \"Feature\": \"# transfusions\", \"Shapley Value\": 0.0, \"sort_col\": 0.0}, {\"Random seed\": 42, \"NSamples\": 3200, \"Feature\": \"Vasoactive drug\", \"Shapley Value\": 0.0, \"sort_col\": 0.0}, {\"Random seed\": 42, \"NSamples\": 3200, \"Feature\": \"Dosis nems\", \"Shapley Value\": 0.00607200552310262, \"sort_col\": 0.00607200552310262}, {\"Random seed\": 42, \"NSamples\": 3200, \"Feature\": \"Tracheo$_{hours}$\", \"Shapley Value\": 0.0, \"sort_col\": 0.0}, {\"Random seed\": 42, \"NSamples\": 3200, \"Feature\": \"Ulcer$_{hours}$\", \"Shapley Value\": 0.0, \"sort_col\": 0.0}, {\"Random seed\": 42, \"NSamples\": 3200, \"Feature\": \"Hemo$_{hours}$\", \"Shapley Value\": 0.0, \"sort_col\": 0.0}, {\"Random seed\": 42, \"NSamples\": 3200, \"Feature\": \"C01 PIVC 1\", \"Shapley Value\": 0.0, \"sort_col\": 0.0}, {\"Random seed\": 42, \"NSamples\": 3200, \"Feature\": \"C01 PIVC 2\", \"Shapley Value\": 0.0, \"sort_col\": 0.0}, {\"Random seed\": 42, \"NSamples\": 3200, \"Feature\": \"C02 CVC - RJ\", \"Shapley Value\": 0.0, \"sort_col\": 0.0}, {\"Random seed\": 42, \"NSamples\": 3200, \"Feature\": \"C02 CVC - RS\", \"Shapley Value\": 0.0, \"sort_col\": 0.0}, {\"Random seed\": 42, \"NSamples\": 3200, \"Feature\": \"C02 CVC - LS\", \"Shapley Value\": 0.0, \"sort_col\": 0.0}, {\"Random seed\": 42, \"NSamples\": 3200, \"Feature\": \"C02 CVC - RF\", \"Shapley Value\": 0.0, \"sort_col\": 0.0}, {\"Random seed\": 42, \"NSamples\": 3200, \"Feature\": \"C02 CVC - LJ\", \"Shapley Value\": 0.0, \"sort_col\": 0.0}, {\"Random seed\": 42, \"NSamples\": 3200, \"Feature\": \"C02 CVC - LF\", \"Shapley Value\": 0.0, \"sort_col\": 0.0}, {\"Random seed\": 42, \"NSamples\": 3200, \"Feature\": \"# catheters\", \"Shapley Value\": 0.0, \"sort_col\": 0.0}], \"data-d285a7403ed98ae579761d64a864032b\": [{\"x\": 0}], \"data-85bd3a15797864957145404e6bdf7222\": [{\"Event\": \"Event -13\", \"Feature\": \"PAP\", \"Shapley Value\": 0.0040087840291815795, \"rounded\": 0.004, \"rounded_str\": \"0.004\"}, {\"Event\": \"Event -13\", \"Feature\": \"Dosis nems\", \"Shapley Value\": 0.00377807606876809, \"rounded\": 0.004, \"rounded_str\": \"0.004\"}, {\"Event\": \"Event -14\", \"Feature\": \"Dosis nems\", \"Shapley Value\": 0.00239270193694858, \"rounded\": 0.002, \"rounded_str\": \"0.002\"}, {\"Event\": \"Event -14\", \"Feature\": \"# pat$_{tot}$\", \"Shapley Value\": 0.0017111470618262833, \"rounded\": 0.002, \"rounded_str\": \"0.002\"}, {\"Event\": \"Event -14\", \"Feature\": \"PAP\", \"Shapley Value\": 0.0016324624167880029, \"rounded\": 0.002, \"rounded_str\": \"0.002\"}, {\"Event\": \"Event -13\", \"Feature\": \"# pat$_{tot}$\", \"Shapley Value\": 0.0015281837122053084, \"rounded\": 0.002, \"rounded_str\": \"0.002\"}, {\"Event\": \"Event -14\", \"Feature\": \"PAP$_{n}$\", \"Shapley Value\": 0.0013018377889673196, \"rounded\": 0.001, \"rounded_str\": \"0.001\"}, {\"Event\": \"Event -13\", \"Feature\": \"PAP$_{n}$\", \"Shapley Value\": 0.0011365327792357436, \"rounded\": 0.001, \"rounded_str\": \"0.001\"}, {\"Event\": \"Event -13\", \"Feature\": \"Others$_{pc}$\", \"Shapley Value\": 0.000363740750570986, \"rounded\": 0.0, \"rounded_str\": \"0.000\"}, {\"Event\": \"Event -13\", \"Feature\": \"ICU$_{hours}$\", \"Shapley Value\": 0.00030434606000367265, \"rounded\": 0.0, \"rounded_str\": \"0.000\"}, {\"Event\": \"Event -13\", \"Feature\": \"CAR$_{n}$\", \"Shapley Value\": 9.550194934164653e-05, \"rounded\": 0.0, \"rounded_str\": \"0.000\"}, {\"Event\": \"Event -3\", \"Feature\": \"MAC$_{n}$\", \"Shapley Value\": 0.0, \"rounded\": 0.0, \"rounded_str\": \"0.000\"}, {\"Event\": \"Event -4\", \"Feature\": \"CAR$_{n}$\", \"Shapley Value\": 0.0, \"rounded\": 0.0, \"rounded_str\": \"0.000\"}, {\"Event\": \"Event -3\", \"Feature\": \"PAP$_{n}$\", \"Shapley Value\": 0.0, \"rounded\": 0.0, \"rounded_str\": \"0.000\"}, {\"Event\": \"Event -3\", \"Feature\": \"# pat$_{tot}$\", \"Shapley Value\": 0.0, \"rounded\": 0.0, \"rounded_str\": \"0.000\"}, {\"Event\": \"Event -3\", \"Feature\": \"Dosis nems\", \"Shapley Value\": 0.0, \"rounded\": 0.0, \"rounded_str\": \"0.000\"}, {\"Event\": \"Event -3\", \"Feature\": \"CAR$_{n}$\", \"Shapley Value\": 0.0, \"rounded\": 0.0, \"rounded_str\": \"0.000\"}, {\"Event\": \"Event -3\", \"Feature\": \"ICU$_{hours}$\", \"Shapley Value\": 0.0, \"rounded\": 0.0, \"rounded_str\": \"0.000\"}, {\"Event\": \"Event -3\", \"Feature\": \"Others$_{pc}$\", \"Shapley Value\": 0.0, \"rounded\": 0.0, \"rounded_str\": \"0.000\"}, {\"Event\": \"Event -3\", \"Feature\": \"PAP\", \"Shapley Value\": 0.0, \"rounded\": 0.0, \"rounded_str\": \"0.000\"}, {\"Event\": \"Event -4\", \"Feature\": \"Dosis nems\", \"Shapley Value\": 0.0, \"rounded\": 0.0, \"rounded_str\": \"0.000\"}, {\"Event\": \"Event -4\", \"Feature\": \"# pat$_{tot}$\", \"Shapley Value\": 0.0, \"rounded\": 0.0, \"rounded_str\": \"0.000\"}, {\"Event\": \"Event -4\", \"Feature\": \"MAC$_{n}$\", \"Shapley Value\": 0.0, \"rounded\": 0.0, \"rounded_str\": \"0.000\"}, {\"Event\": \"Event -4\", \"Feature\": \"PAP$_{n}$\", \"Shapley Value\": 0.0, \"rounded\": 0.0, \"rounded_str\": \"0.000\"}, {\"Event\": \"Event -5\", \"Feature\": \"MAC$_{n}$\", \"Shapley Value\": 0.0, \"rounded\": 0.0, \"rounded_str\": \"0.000\"}, {\"Event\": \"Event -4\", \"Feature\": \"ICU$_{hours}$\", \"Shapley Value\": 0.0, \"rounded\": 0.0, \"rounded_str\": \"0.000\"}, {\"Event\": \"Event -4\", \"Feature\": \"Others$_{pc}$\", \"Shapley Value\": 0.0, \"rounded\": 0.0, \"rounded_str\": \"0.000\"}, {\"Event\": \"Event -4\", \"Feature\": \"PAP\", \"Shapley Value\": 0.0, \"rounded\": 0.0, \"rounded_str\": \"0.000\"}, {\"Event\": \"Event -5\", \"Feature\": \"Dosis nems\", \"Shapley Value\": 0.0, \"rounded\": 0.0, \"rounded_str\": \"0.000\"}, {\"Event\": \"Event -5\", \"Feature\": \"# pat$_{tot}$\", \"Shapley Value\": 0.0, \"rounded\": 0.0, \"rounded_str\": \"0.000\"}, {\"Event\": \"Event -2\", \"Feature\": \"Others$_{pc}$\", \"Shapley Value\": 0.0, \"rounded\": 0.0, \"rounded_str\": \"0.000\"}, {\"Event\": \"Event -5\", \"Feature\": \"PAP$_{n}$\", \"Shapley Value\": 0.0, \"rounded\": 0.0, \"rounded_str\": \"0.000\"}, {\"Event\": \"Event -5\", \"Feature\": \"CAR$_{n}$\", \"Shapley Value\": 0.0, \"rounded\": 0.0, \"rounded_str\": \"0.000\"}, {\"Event\": \"Event -5\", \"Feature\": \"ICU$_{hours}$\", \"Shapley Value\": 0.0, \"rounded\": 0.0, \"rounded_str\": \"0.000\"}, {\"Event\": \"Event -5\", \"Feature\": \"Others$_{pc}$\", \"Shapley Value\": 0.0, \"rounded\": 0.0, \"rounded_str\": \"0.000\"}, {\"Event\": \"Event -5\", \"Feature\": \"PAP\", \"Shapley Value\": 0.0, \"rounded\": 0.0, \"rounded_str\": \"0.000\"}, {\"Event\": \"Event -6\", \"Feature\": \"Dosis nems\", \"Shapley Value\": 0.0, \"rounded\": 0.0, \"rounded_str\": \"0.000\"}, {\"Event\": \"Event -6\", \"Feature\": \"# pat$_{tot}$\", \"Shapley Value\": 0.0, \"rounded\": 0.0, \"rounded_str\": \"0.000\"}, {\"Event\": \"Event -2\", \"Feature\": \"PAP\", \"Shapley Value\": 0.0, \"rounded\": 0.0, \"rounded_str\": \"0.000\"}, {\"Event\": \"Event -2\", \"Feature\": \"# pat$_{tot}$\", \"Shapley Value\": 0.0, \"rounded\": 0.0, \"rounded_str\": \"0.000\"}, {\"Event\": \"Event -2\", \"Feature\": \"ICU$_{hours}$\", \"Shapley Value\": 0.0, \"rounded\": 0.0, \"rounded_str\": \"0.000\"}, {\"Event\": \"Event -2\", \"Feature\": \"CAR$_{n}$\", \"Shapley Value\": 0.0, \"rounded\": 0.0, \"rounded_str\": \"0.000\"}, {\"Event\": \"Event -2\", \"Feature\": \"Other Features\", \"Shapley Value\": 0.0, \"rounded\": 0.0, \"rounded_str\": \"0.000\"}, {\"Event\": \"Event -3\", \"Feature\": \"Other Features\", \"Shapley Value\": 0.0, \"rounded\": 0.0, \"rounded_str\": \"0.000\"}, {\"Event\": \"Event -4\", \"Feature\": \"Other Features\", \"Shapley Value\": 0.0, \"rounded\": 0.0, \"rounded_str\": \"0.000\"}, {\"Event\": \"Event -5\", \"Feature\": \"Other Features\", \"Shapley Value\": 0.0, \"rounded\": 0.0, \"rounded_str\": \"0.000\"}, {\"Event\": \"Event -6\", \"Feature\": \"Other Features\", \"Shapley Value\": 0.0, \"rounded\": 0.0, \"rounded_str\": \"0.000\"}, {\"Event\": \"Event -7\", \"Feature\": \"Other Features\", \"Shapley Value\": 0.0, \"rounded\": 0.0, \"rounded_str\": \"0.000\"}, {\"Event\": \"Event -8\", \"Feature\": \"Other Features\", \"Shapley Value\": 0.0, \"rounded\": 0.0, \"rounded_str\": \"0.000\"}, {\"Event\": \"Event -9\", \"Feature\": \"Other Features\", \"Shapley Value\": 0.0, \"rounded\": 0.0, \"rounded_str\": \"0.000\"}, {\"Event\": \"Event -10\", \"Feature\": \"Other Features\", \"Shapley Value\": 0.0, \"rounded\": 0.0, \"rounded_str\": \"0.000\"}, {\"Event\": \"Event -11\", \"Feature\": \"Other Features\", \"Shapley Value\": 0.0, \"rounded\": 0.0, \"rounded_str\": \"0.000\"}, {\"Event\": \"Event -12\", \"Feature\": \"Other Features\", \"Shapley Value\": 0.0, \"rounded\": 0.0, \"rounded_str\": \"0.000\"}, {\"Event\": \"Event -13\", \"Feature\": \"Other Features\", \"Shapley Value\": 0.0, \"rounded\": 0.0, \"rounded_str\": \"0.000\"}, {\"Event\": \"Event -14\", \"Feature\": \"Other Features\", \"Shapley Value\": 0.0, \"rounded\": 0.0, \"rounded_str\": \"0.000\"}, {\"Event\": \"Event -1\", \"Feature\": \"Dosis nems\", \"Shapley Value\": 0.0, \"rounded\": 0.0, \"rounded_str\": \"0.000\"}, {\"Event\": \"Event -1\", \"Feature\": \"# pat$_{tot}$\", \"Shapley Value\": 0.0, \"rounded\": 0.0, \"rounded_str\": \"0.000\"}, {\"Event\": \"Event -1\", \"Feature\": \"MAC$_{n}$\", \"Shapley Value\": 0.0, \"rounded\": 0.0, \"rounded_str\": \"0.000\"}, {\"Event\": \"Event -1\", \"Feature\": \"PAP$_{n}$\", \"Shapley Value\": 0.0, \"rounded\": 0.0, \"rounded_str\": \"0.000\"}, {\"Event\": \"Event -1\", \"Feature\": \"CAR$_{n}$\", \"Shapley Value\": 0.0, \"rounded\": 0.0, \"rounded_str\": \"0.000\"}, {\"Event\": \"Event -1\", \"Feature\": \"ICU$_{hours}$\", \"Shapley Value\": 0.0, \"rounded\": 0.0, \"rounded_str\": \"0.000\"}, {\"Event\": \"Event -1\", \"Feature\": \"Others$_{pc}$\", \"Shapley Value\": 0.0, \"rounded\": 0.0, \"rounded_str\": \"0.000\"}, {\"Event\": \"Event -1\", \"Feature\": \"PAP\", \"Shapley Value\": 0.0, \"rounded\": 0.0, \"rounded_str\": \"0.000\"}, {\"Event\": \"Event -2\", \"Feature\": \"Dosis nems\", \"Shapley Value\": 0.0, \"rounded\": 0.0, \"rounded_str\": \"0.000\"}, {\"Event\": \"Event -6\", \"Feature\": \"PAP$_{n}$\", \"Shapley Value\": 0.0, \"rounded\": 0.0, \"rounded_str\": \"0.000\"}, {\"Event\": \"Event -2\", \"Feature\": \"MAC$_{n}$\", \"Shapley Value\": 0.0, \"rounded\": 0.0, \"rounded_str\": \"0.000\"}, {\"Event\": \"Event -2\", \"Feature\": \"PAP$_{n}$\", \"Shapley Value\": 0.0, \"rounded\": 0.0, \"rounded_str\": \"0.000\"}, {\"Event\": \"Event -6\", \"Feature\": \"MAC$_{n}$\", \"Shapley Value\": 0.0, \"rounded\": 0.0, \"rounded_str\": \"0.000\"}, {\"Event\": \"Event -7\", \"Feature\": \"Dosis nems\", \"Shapley Value\": 0.0, \"rounded\": 0.0, \"rounded_str\": \"0.000\"}, {\"Event\": \"Event -6\", \"Feature\": \"CAR$_{n}$\", \"Shapley Value\": 0.0, \"rounded\": 0.0, \"rounded_str\": \"0.000\"}, {\"Event\": \"Event -11\", \"Feature\": \"ICU$_{hours}$\", \"Shapley Value\": 0.0, \"rounded\": 0.0, \"rounded_str\": \"0.000\"}, {\"Event\": \"Event -10\", \"Feature\": \"MAC$_{n}$\", \"Shapley Value\": 0.0, \"rounded\": 0.0, \"rounded_str\": \"0.000\"}, {\"Event\": \"Event -10\", \"Feature\": \"PAP$_{n}$\", \"Shapley Value\": 0.0, \"rounded\": 0.0, \"rounded_str\": \"0.000\"}, {\"Event\": \"Event -10\", \"Feature\": \"CAR$_{n}$\", \"Shapley Value\": 0.0, \"rounded\": 0.0, \"rounded_str\": \"0.000\"}, {\"Event\": \"Event -10\", \"Feature\": \"ICU$_{hours}$\", \"Shapley Value\": 0.0, \"rounded\": 0.0, \"rounded_str\": \"0.000\"}, {\"Event\": \"Event -10\", \"Feature\": \"Others$_{pc}$\", \"Shapley Value\": 0.0, \"rounded\": 0.0, \"rounded_str\": \"0.000\"}, {\"Event\": \"Event -10\", \"Feature\": \"PAP\", \"Shapley Value\": 0.0, \"rounded\": 0.0, \"rounded_str\": \"0.000\"}, {\"Event\": \"Event -11\", \"Feature\": \"Dosis nems\", \"Shapley Value\": 0.0, \"rounded\": 0.0, \"rounded_str\": \"0.000\"}, {\"Event\": \"Event -11\", \"Feature\": \"# pat$_{tot}$\", \"Shapley Value\": 0.0, \"rounded\": 0.0, \"rounded_str\": \"0.000\"}, {\"Event\": \"Event -11\", \"Feature\": \"MAC$_{n}$\", \"Shapley Value\": 0.0, \"rounded\": 0.0, \"rounded_str\": \"0.000\"}, {\"Event\": \"Event -11\", \"Feature\": \"PAP$_{n}$\", \"Shapley Value\": 0.0, \"rounded\": 0.0, \"rounded_str\": \"0.000\"}, {\"Event\": \"Event -11\", \"Feature\": \"CAR$_{n}$\", \"Shapley Value\": 0.0, \"rounded\": 0.0, \"rounded_str\": \"0.000\"}, {\"Event\": \"Event -11\", \"Feature\": \"Others$_{pc}$\", \"Shapley Value\": 0.0, \"rounded\": 0.0, \"rounded_str\": \"0.000\"}, {\"Event\": \"Event -6\", \"Feature\": \"ICU$_{hours}$\", \"Shapley Value\": 0.0, \"rounded\": 0.0, \"rounded_str\": \"0.000\"}, {\"Event\": \"Event -11\", \"Feature\": \"PAP\", \"Shapley Value\": 0.0, \"rounded\": 0.0, \"rounded_str\": \"0.000\"}, {\"Event\": \"Event -12\", \"Feature\": \"Dosis nems\", \"Shapley Value\": 0.0, \"rounded\": 0.0, \"rounded_str\": \"0.000\"}, {\"Event\": \"Event -12\", \"Feature\": \"# pat$_{tot}$\", \"Shapley Value\": 0.0, \"rounded\": 0.0, \"rounded_str\": \"0.000\"}, {\"Event\": \"Event -12\", \"Feature\": \"MAC$_{n}$\", \"Shapley Value\": 0.0, \"rounded\": 0.0, \"rounded_str\": \"0.000\"}, {\"Event\": \"Event -12\", \"Feature\": \"PAP$_{n}$\", \"Shapley Value\": 0.0, \"rounded\": 0.0, \"rounded_str\": \"0.000\"}, {\"Event\": \"Event -12\", \"Feature\": \"CAR$_{n}$\", \"Shapley Value\": 0.0, \"rounded\": 0.0, \"rounded_str\": \"0.000\"}, {\"Event\": \"Event -12\", \"Feature\": \"ICU$_{hours}$\", \"Shapley Value\": 0.0, \"rounded\": 0.0, \"rounded_str\": \"0.000\"}, {\"Event\": \"Event -12\", \"Feature\": \"Others$_{pc}$\", \"Shapley Value\": 0.0, \"rounded\": 0.0, \"rounded_str\": \"0.000\"}, {\"Event\": \"Event -12\", \"Feature\": \"PAP\", \"Shapley Value\": 0.0, \"rounded\": 0.0, \"rounded_str\": \"0.000\"}, {\"Event\": \"Event -14\", \"Feature\": \"CAR$_{n}$\", \"Shapley Value\": 0.0, \"rounded\": 0.0, \"rounded_str\": \"0.000\"}, {\"Event\": \"Event -14\", \"Feature\": \"ICU$_{hours}$\", \"Shapley Value\": 0.0, \"rounded\": 0.0, \"rounded_str\": \"0.000\"}, {\"Event\": \"Event -10\", \"Feature\": \"# pat$_{tot}$\", \"Shapley Value\": 0.0, \"rounded\": 0.0, \"rounded_str\": \"0.000\"}, {\"Event\": \"Event -10\", \"Feature\": \"Dosis nems\", \"Shapley Value\": 0.0, \"rounded\": 0.0, \"rounded_str\": \"0.000\"}, {\"Event\": \"Event -9\", \"Feature\": \"PAP\", \"Shapley Value\": 0.0, \"rounded\": 0.0, \"rounded_str\": \"0.000\"}, {\"Event\": \"Event -9\", \"Feature\": \"Others$_{pc}$\", \"Shapley Value\": 0.0, \"rounded\": 0.0, \"rounded_str\": \"0.000\"}, {\"Event\": \"Event -6\", \"Feature\": \"Others$_{pc}$\", \"Shapley Value\": 0.0, \"rounded\": 0.0, \"rounded_str\": \"0.000\"}, {\"Event\": \"Event -6\", \"Feature\": \"PAP\", \"Shapley Value\": 0.0, \"rounded\": 0.0, \"rounded_str\": \"0.000\"}, {\"Event\": \"Event -14\", \"Feature\": \"Others$_{pc}$\", \"Shapley Value\": 0.0, \"rounded\": 0.0, \"rounded_str\": \"0.000\"}, {\"Event\": \"Event -7\", \"Feature\": \"# pat$_{tot}$\", \"Shapley Value\": 0.0, \"rounded\": 0.0, \"rounded_str\": \"0.000\"}, {\"Event\": \"Event -7\", \"Feature\": \"MAC$_{n}$\", \"Shapley Value\": 0.0, \"rounded\": 0.0, \"rounded_str\": \"0.000\"}, {\"Event\": \"Event -7\", \"Feature\": \"PAP$_{n}$\", \"Shapley Value\": 0.0, \"rounded\": 0.0, \"rounded_str\": \"0.000\"}, {\"Event\": \"Event -7\", \"Feature\": \"CAR$_{n}$\", \"Shapley Value\": 0.0, \"rounded\": 0.0, \"rounded_str\": \"0.000\"}, {\"Event\": \"Event -7\", \"Feature\": \"ICU$_{hours}$\", \"Shapley Value\": 0.0, \"rounded\": 0.0, \"rounded_str\": \"0.000\"}, {\"Event\": \"Event -7\", \"Feature\": \"Others$_{pc}$\", \"Shapley Value\": 0.0, \"rounded\": 0.0, \"rounded_str\": \"0.000\"}, {\"Event\": \"Event -7\", \"Feature\": \"PAP\", \"Shapley Value\": 0.0, \"rounded\": 0.0, \"rounded_str\": \"0.000\"}, {\"Event\": \"Event -8\", \"Feature\": \"Dosis nems\", \"Shapley Value\": 0.0, \"rounded\": 0.0, \"rounded_str\": \"0.000\"}, {\"Event\": \"Event -8\", \"Feature\": \"# pat$_{tot}$\", \"Shapley Value\": 0.0, \"rounded\": 0.0, \"rounded_str\": \"0.000\"}, {\"Event\": \"Event -8\", \"Feature\": \"MAC$_{n}$\", \"Shapley Value\": 0.0, \"rounded\": 0.0, \"rounded_str\": \"0.000\"}, {\"Event\": \"Event -8\", \"Feature\": \"PAP$_{n}$\", \"Shapley Value\": 0.0, \"rounded\": 0.0, \"rounded_str\": \"0.000\"}, {\"Event\": \"Event -8\", \"Feature\": \"CAR$_{n}$\", \"Shapley Value\": 0.0, \"rounded\": 0.0, \"rounded_str\": \"0.000\"}, {\"Event\": \"Event -8\", \"Feature\": \"ICU$_{hours}$\", \"Shapley Value\": 0.0, \"rounded\": 0.0, \"rounded_str\": \"0.000\"}, {\"Event\": \"Event -8\", \"Feature\": \"Others$_{pc}$\", \"Shapley Value\": 0.0, \"rounded\": 0.0, \"rounded_str\": \"0.000\"}, {\"Event\": \"Event -8\", \"Feature\": \"PAP\", \"Shapley Value\": 0.0, \"rounded\": 0.0, \"rounded_str\": \"0.000\"}, {\"Event\": \"Event -9\", \"Feature\": \"Dosis nems\", \"Shapley Value\": 0.0, \"rounded\": 0.0, \"rounded_str\": \"0.000\"}, {\"Event\": \"Event -9\", \"Feature\": \"# pat$_{tot}$\", \"Shapley Value\": 0.0, \"rounded\": 0.0, \"rounded_str\": \"0.000\"}, {\"Event\": \"Event -9\", \"Feature\": \"MAC$_{n}$\", \"Shapley Value\": 0.0, \"rounded\": 0.0, \"rounded_str\": \"0.000\"}, {\"Event\": \"Event -9\", \"Feature\": \"PAP$_{n}$\", \"Shapley Value\": 0.0, \"rounded\": 0.0, \"rounded_str\": \"0.000\"}, {\"Event\": \"Event -9\", \"Feature\": \"CAR$_{n}$\", \"Shapley Value\": 0.0, \"rounded\": 0.0, \"rounded_str\": \"0.000\"}, {\"Event\": \"Event -9\", \"Feature\": \"ICU$_{hours}$\", \"Shapley Value\": 0.0, \"rounded\": 0.0, \"rounded_str\": \"0.000\"}, {\"Event\": \"Event -1\", \"Feature\": \"Other Features\", \"Shapley Value\": 0.0, \"rounded\": 0.0, \"rounded_str\": \"0.000\"}, {\"Event\": \"Event -13\", \"Feature\": \"MAC$_{n}$\", \"Shapley Value\": -0.0008515824637060389, \"rounded\": -0.001, \"rounded_str\": \"-0.001\"}, {\"Event\": \"Event -14\", \"Feature\": \"MAC$_{n}$\", \"Shapley Value\": -0.002844310882703193, \"rounded\": -0.003, \"rounded_str\": \"-0.003\"}]}}, {\"mode\": \"vega-lite\"});\n",
       "</script>"
      ],
      "text/plain": [
       "alt.HConcatChart(...)"
      ]
     },
     "execution_count": 15,
     "metadata": {},
     "output_type": "execute_result"
    }
   ],
   "source": [
    "local_report(f_hs, pos_x_data, pruning_dict, event_dict, feature_dict,\n",
    "             cell_dict=cell_dict, entity_uuid='adb', entity_col='id', baseline=average_event)"
   ]
  },
  {
   "cell_type": "code",
   "execution_count": null,
   "metadata": {},
   "outputs": [],
   "source": []
  }
 ],
 "metadata": {
  "kernelspec": {
   "display_name": "Python 3",
   "language": "python",
   "name": "python3"
  },
  "language_info": {
   "codemirror_mode": {
    "name": "ipython",
    "version": 3
   },
   "file_extension": ".py",
   "mimetype": "text/x-python",
   "name": "python",
   "nbconvert_exporter": "python",
   "pygments_lexer": "ipython3",
   "version": "3.8.10"
  }
 },
 "nbformat": 4,
 "nbformat_minor": 5
}
